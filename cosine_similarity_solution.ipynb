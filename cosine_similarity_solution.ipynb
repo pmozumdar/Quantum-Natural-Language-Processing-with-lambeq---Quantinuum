{
 "cells": [
  {
   "cell_type": "code",
   "execution_count": 1,
   "id": "ea51eee6-1c05-4a9c-9a09-7d0e519a5d79",
   "metadata": {},
   "outputs": [
    {
     "name": "stderr",
     "output_type": "stream",
     "text": [
      "/home/jovyan/.qbraid/environments/womanium_go14xk/pyenv/lib/python3.9/site-packages/lambeq/text2diagram/ccg_parser.py:24: TqdmExperimentalWarning: Using `tqdm.autonotebook.tqdm` in notebook mode. Use `tqdm.tqdm` instead to force console mode (e.g. in jupyter console)\n",
      "  from tqdm.autonotebook import tqdm\n"
     ]
    }
   ],
   "source": [
    "from lambeq import BobcatParser, AtomicType, IQPAnsatz\n",
    "from lambeq import Rewriter, remove_cups\n",
    "from lambeq import Dataset, QuantumTrainer, SPSAOptimizer, NumpyModel, TketModel  \n",
    "from lambeq.core.utils import flatten\n",
    "\n",
    "from pytket.extensions.qiskit import tk_to_qiskit, AerBackend\n",
    "\n",
    "import os\n",
    "import warnings\n",
    "import numpy as np\n",
    "import matplotlib.pyplot as plt\n",
    "\n",
    "warnings.filterwarnings('ignore')\n",
    "os.environ['TOKENIZERS_PARALLELISM'] = 'false'"
   ]
  },
  {
   "cell_type": "code",
   "execution_count": 16,
   "id": "442e9b5e-84fd-4032-8b55-cdb06da87a9a",
   "metadata": {},
   "outputs": [],
   "source": [
    "BATCH_SIZE = 30  ## batch size of training data if don't want to use full training dataset at once\n",
    "EPOCHS = 600    ## number of epochs for training the model\n",
    "SEED = 2"
   ]
  },
  {
   "cell_type": "markdown",
   "id": "87122d5a-8ccd-4e69-923b-8f06d980dfb9",
   "metadata": {},
   "source": [
    "## Read in data"
   ]
  },
  {
   "cell_type": "code",
   "execution_count": 3,
   "id": "131fdc0a-64e2-4338-b48c-54627a00982b",
   "metadata": {},
   "outputs": [],
   "source": [
    "def read_data(filename):\n",
    "    labels, sentence_pairs = [], []\n",
    "    with open(filename) as f:\n",
    "        for line in f:\n",
    "            l = line.strip().split(',')\n",
    "            labels.append(int(l[2]))  #, 1-int(l[2])]) ## using only one label per data\n",
    "            sentence_pairs.append([l[0]]+ [l[1]])\n",
    "            \n",
    "    return labels, sentence_pairs\n",
    "\n",
    "labels, sentence_pairs = read_data('datasets/MC1.txt')\n",
    "train_labels1, train_data1 = labels[:80], sentence_pairs[:80]  # for now first 60 data set is used as training data\n",
    "#dev_labels, dev_data = labels[60:80], sentence_pairs[60:80]  # next 20 data set is validation data\n",
    "test_labels1, test_data1 = labels[80:], sentence_pairs[80:]    # rest is test data"
   ]
  },
  {
   "cell_type": "code",
   "execution_count": 4,
   "id": "237aa388-de12-4b08-9436-44305951a8ed",
   "metadata": {},
   "outputs": [
    {
     "data": {
      "text/plain": [
       "([['cook creates complicated dish',\n",
       "   ' experienced chef prepares complicated dish'],\n",
       "  ['skilful programmer creates code', ' devoted hacker writes code'],\n",
       "  ['skilful cook creates meal', ' devoted hacker creates complicated code'],\n",
       "  ['hacker writes code', ' skilful hacker creates code'],\n",
       "  ['devoted hacker writes code', ' hacker writes complicated code']],\n",
       " [1, 1, 0, 1, 1],\n",
       " [['devoted hacker creates complicated code',\n",
       "   ' skilful cook prepares complicated meal'],\n",
       "  ['chef creates complicated meal', ' cook prepares tasty dish'],\n",
       "  ['chef prepares tasty meal', ' chef prepares meal'],\n",
       "  ['programmer writes code', ' cook prepares complicated meal'],\n",
       "  ['hacker writes advanced code', ' hacker creates code']],\n",
       " [0, 1, 1, 0, 1])"
      ]
     },
     "execution_count": 4,
     "metadata": {},
     "output_type": "execute_result"
    }
   ],
   "source": [
    "train_data1[:5], train_labels1[:5], test_data1[:5], test_labels1[:5]"
   ]
  },
  {
   "cell_type": "markdown",
   "id": "8d0c9c88",
   "metadata": {},
   "source": [
    "## Create a random dataset from the given data by shuffling"
   ]
  },
  {
   "cell_type": "code",
   "execution_count": 5,
   "id": "d6441289-8a55-4991-af9f-1a281ab54837",
   "metadata": {},
   "outputs": [],
   "source": [
    "sentence_pairs1, labels1  = Dataset.shuffle_data(sentence_pairs, labels) ## returns data, target\n",
    "\n",
    "train_labels, train_data = labels1[:80], sentence_pairs1[:80]  # for now first 80 data set is used as training data\n",
    "#dev_labels, dev_data = labels[60:80], sentence_pairs[60:80]  # next 20 data set is validation data\n",
    "test_labels, test_data = labels1[80:], sentence_pairs1[80:]    # rest is test data"
   ]
  },
  {
   "cell_type": "code",
   "execution_count": 6,
   "id": "0b7928ab-468b-43d9-bbe9-fb73fe791d70",
   "metadata": {},
   "outputs": [
    {
     "data": {
      "text/plain": [
       "([['skilful cook prepares tasty dish', ' hacker creates code'],\n",
       "  ['devoted programmer creates advanced code',\n",
       "   ' skilful programmer writes advanced code'],\n",
       "  ['experienced chef prepares complicated dish', ' skilful cook creates meal'],\n",
       "  ['hacker writes code', ' devoted hacker creates code'],\n",
       "  ['skilful chef creates meal', ' skilful hacker creates advanced code']],\n",
       " [0, 1, 1, 1, 0],\n",
       " [['skilful programmer creates complicated code',\n",
       "   ' programmer writes complicated code'],\n",
       "  ['programmer writes complicated code', ' skilful cook creates tasty dish'],\n",
       "  ['cook creates complicated meal', ' cook prepares dish'],\n",
       "  ['devoted hacker writes complicated code',\n",
       "   ' devoted programmer creates complicated code'],\n",
       "  ['skilful hacker writes code', ' cook creates meal']],\n",
       " [1, 0, 1, 1, 0])"
      ]
     },
     "execution_count": 6,
     "metadata": {},
     "output_type": "execute_result"
    }
   ],
   "source": [
    "train_data[:5], train_labels[:5], test_data[:5], test_labels[:5]"
   ]
  },
  {
   "cell_type": "markdown",
   "id": "3c12ad92-705b-4b15-b298-40cb49f212bc",
   "metadata": {},
   "source": [
    "## Create and check diagrams"
   ]
  },
  {
   "cell_type": "code",
   "execution_count": 7,
   "id": "db1c1e76-5035-4702-8dc1-7759298d92a2",
   "metadata": {},
   "outputs": [],
   "source": [
    "parser = BobcatParser(verbose='suppress')  ## to select particular type of words like nouns use 'root_cats' parameter\n",
    "\n",
    "raw_train_diagrams = [parser.sentences2diagrams(d) for d in train_data] # can send list of list of str to the function\n",
    "#raw_dev_diagrams = [parser.sentences2diagrams(d) for d in dev_data]\n",
    "raw_test_diagrams = [parser.sentences2diagrams(d) for d in test_data]"
   ]
  },
  {
   "cell_type": "code",
   "execution_count": 8,
   "id": "a93f8f01-d0ec-45db-a94a-d75befecb200",
   "metadata": {},
   "outputs": [
    {
     "data": {
      "image/png": "[encoded data removed]",
      "text/plain": [
       "<Figure size 432x288 with 1 Axes>"
      ]
     },
     "metadata": {},
     "output_type": "display_data"
    },
    {
     "data": {
      "image/png": "[encoded data removed]",
      "text/plain": [
       "<Figure size 432x288 with 1 Axes>"
      ]
     },
     "metadata": {},
     "output_type": "display_data"
    },
    {
     "data": {
      "text/plain": [
       "(['skilful chef creates meal', ' skilful hacker creates advanced code'],\n",
       " None,\n",
       " None)"
      ]
     },
     "execution_count": 8,
     "metadata": {},
     "output_type": "execute_result"
    }
   ],
   "source": [
    "train_data[4], raw_train_diagrams[4][0].draw(), raw_train_diagrams[4][1].draw()"
   ]
  },
  {
   "cell_type": "markdown",
   "id": "11c89bc7-a35f-48b7-8f78-1300effaac2d",
   "metadata": {},
   "source": [
    "## Filter and simply string diagrams"
   ]
  },
  {
   "cell_type": "code",
   "execution_count": 9,
   "id": "6b458fc9-af4d-4ace-bfe4-0d543c811100",
   "metadata": {},
   "outputs": [
    {
     "name": "stdout",
     "output_type": "stream",
     "text": [
      "80 0 20\n"
     ]
    }
   ],
   "source": [
    "## First filter out those diagrams which could not be parsed\n",
    "\n",
    "## before filtering\n",
    "#print(len(raw_train_diagrams), len(raw_dev_diagrams), len(raw_test_diagrams))\n",
    "\n",
    "train_diagrams, train_labels_final = [], []\n",
    "dev_diagrams, dev_labels_final = [], []\n",
    "test_diagrams, test_labels_final = [], []\n",
    "\n",
    "for diagram, label in zip(raw_train_diagrams, train_labels):\n",
    "    if diagram[0] is not None and diagram[1] is not None:\n",
    "        train_diagrams.append(remove_cups(diagram))\n",
    "        train_labels_final.append(label)\n",
    "        \n",
    "# for diagram, label in zip(raw_dev_diagrams, dev_labels):\n",
    "#     if diagram[0] is not None and diagram[1] is not None:\n",
    "#         dev_diagrams.append(remove_cups(diagram))\n",
    "#         dev_labels_final.append(label)\n",
    "\n",
    "for diagram, label in zip(raw_test_diagrams, test_labels):\n",
    "    if diagram[0] is not None and diagram[1] is not None:\n",
    "        test_diagrams.append(remove_cups(diagram))\n",
    "        test_labels_final.append(label)\n",
    "\n",
    "print(len(train_diagrams), len(dev_diagrams), len(test_diagrams))"
   ]
  },
  {
   "cell_type": "markdown",
   "id": "b31ffd87-4695-4a3b-8e00-d7f88433e315",
   "metadata": {},
   "source": [
    "## Create circuits"
   ]
  },
  {
   "cell_type": "code",
   "execution_count": 10,
   "id": "642b55dc-c334-4d1d-a9a3-5bbbbe20a854",
   "metadata": {},
   "outputs": [
    {
     "data": {
      "image/png": "[encoded data removed]",
      "text/plain": [
       "<Figure size 648x864 with 1 Axes>"
      ]
     },
     "metadata": {},
     "output_type": "display_data"
    }
   ],
   "source": [
    "ansatz = IQPAnsatz({AtomicType.NOUN: 1, AtomicType.SENTENCE: 1},\n",
    "                   n_layers=1, n_single_qubit_params=3) \n",
    "\n",
    "train_circuits = [[ansatz(diagram[0]), ansatz(diagram[1])] for diagram in train_diagrams]\n",
    "#dev_circuits =  [[ansatz(diagram[0]), ansatz(diagram[1])] for diagram in dev_diagrams]\n",
    "test_circuits = [[ansatz(diagram[0]), ansatz(diagram[1])] for diagram in test_diagrams]\n",
    "\n",
    "train_circuits[0][0].draw(figsize=(9, 12))"
   ]
  },
  {
   "cell_type": "markdown",
   "id": "7c917c2b-d883-4d43-bc87-a1ec38bca3bf",
   "metadata": {},
   "source": [
    "## Parameterise"
   ]
  },
  {
   "cell_type": "code",
   "execution_count": 17,
   "id": "270a2c94-2e4f-47b3-86f2-83635a30fa82",
   "metadata": {},
   "outputs": [],
   "source": [
    "## JAX backend\n",
    "\n",
    "#all_circuits = train_circuits + dev_circuits + test_circuits\n",
    "#all_circuits = [d for d in flatten(train_circuits)] + [d for d in flatten(dev_circuits)] + [d for d in flatten(test_circuits)]\n",
    "all_circuits = [d for d in flatten(train_circuits)] + [d for d in flatten(test_circuits)]\n",
    "\n",
    "model = NumpyModel.from_diagrams(all_circuits, use_jit=True)\n",
    "#model1 = NumpyModel.from_diagrams(train_circuits, use_jit=True) # cann't take list of list"
   ]
  },
  {
   "cell_type": "code",
   "execution_count": 12,
   "id": "ad112ac0-c2ca-45a0-8496-daa5c000a4aa",
   "metadata": {},
   "outputs": [],
   "source": [
    "## Aer backend\n",
    "backend = AerBackend()\n",
    "backend_config = {\n",
    "    'backend': backend,\n",
    "    'compilation': backend.default_compilation_pass(2),\n",
    "    'shots': 8192\n",
    "}\n",
    "qmodel = TketModel.from_diagrams(all_circuits, backend_config=backend_config)"
   ]
  },
  {
   "cell_type": "markdown",
   "id": "0732ae1f-f0e7-4608-bfeb-a4bfc3f5345e",
   "metadata": {},
   "source": [
    "## Define Loss and accuracy function"
   ]
  },
  {
   "cell_type": "code",
   "execution_count": 12,
   "id": "a06a893d-4029-44d3-a902-ca75ca52e05f",
   "metadata": {},
   "outputs": [],
   "source": [
    "def loss_func_1(y_hat, y):\n",
    "    ## cosine similarity and binary cross-entropy loss function\n",
    "    \n",
    "    y_hat_new  = []\n",
    "    y_new = []\n",
    "    eps = 10**-9\n",
    "    \n",
    "    for i in range(0, len(y_hat), 2):\n",
    "        cos_sim = np.dot(y_hat[i], y_hat[i+1])/(np.linalg.norm(y_hat[i])*np.linalg.norm(y_hat[i+1]))\n",
    "        #cos_sim = np.dot(np.sqrt(y_hat[i]), np.sqrt(y_hat[i+1]))\n",
    "        y_hat_new.append(cos_sim) \n",
    "        y_new.append(y[i])\n",
    "        \n",
    "    loss =  -np.sum(np.array(y_new) * np.log(np.array(y_hat_new)+eps)) / len(y_new) # binary cross-entropy loss\n",
    "    \n",
    "    return loss\n",
    "    \n",
    "def loss_func_2(y_hat, y):\n",
    "    ## cosine similarity and mean squared error\n",
    "    \n",
    "    y_hat_new  = []\n",
    "    y_new = []\n",
    "    \n",
    "    \n",
    "    for i in range(0, len(y_hat), 2):\n",
    "        cos_sim = np.dot(y_hat[i], y_hat[i+1])/(np.linalg.norm(y_hat[i])*np.linalg.norm(y_hat[i+1]))\n",
    "        #cos_sim = np.dot(np.sqrt(y_hat[i]), np.sqrt(y_hat[i+1]))\n",
    "        y_hat_new.append(cos_sim)\n",
    "        y_new.append(y[i])\n",
    "    \n",
    "    loss = np.sum((np.array(y_new) - np.array(y_hat_new))**2)/len(y_new)\n",
    "            \n",
    "    return loss\n",
    "\n",
    "\n",
    "def accuracy_func(y_hat, y):\n",
    "    y_hat_new  = []\n",
    "    y_new = []\n",
    "    \n",
    "    for i in range(0, len(y_hat), 2):\n",
    "        cos_sim = np.dot(y_hat[i], y_hat[i+1])/(np.linalg.norm(y_hat[i])*np.linalg.norm(y_hat[i+1]))\n",
    "        #cos_sim = np.dot(np.sqrt(y_hat[i]), np.sqrt(y_hat[i+1]))\n",
    "        theta = np.rad2deg(np.arccos(min(1.0, cos_sim)))\n",
    "        if theta < 20:\n",
    "            y_hat_new.append(1) \n",
    "        else:\n",
    "            y_hat_new.append(0) \n",
    "        y_new.append(y[i])\n",
    "    \n",
    "    acc = 0\n",
    "    for i,j in zip (y_hat_new, y_new):\n",
    "        if i==j:\n",
    "            acc += 1\n",
    "            \n",
    "    return acc/len(y_new)"
   ]
  },
  {
   "cell_type": "markdown",
   "id": "129c585c-cfa3-467b-a56b-2909137aea0a",
   "metadata": {},
   "source": [
    "## Define trainer and create dataset"
   ]
  },
  {
   "cell_type": "code",
   "execution_count": 18,
   "id": "910a1702-ccf6-4432-b71a-2d2f8006377d",
   "metadata": {},
   "outputs": [],
   "source": [
    "trainer = QuantumTrainer(\n",
    "    model,\n",
    "    loss_function=loss_func_2,\n",
    "    epochs=EPOCHS,\n",
    "    optimizer=SPSAOptimizer,\n",
    "    optim_hyperparams={'a': 0.05, 'c': 0.06, 'A':0.01*EPOCHS},\n",
    "    evaluate_functions={'acc': accuracy_func},\n",
    "    evaluate_on_train=True,\n",
    "    verbose = 'text',\n",
    "    seed=SEED\n",
    ")"
   ]
  },
  {
   "cell_type": "code",
   "execution_count": 14,
   "id": "ae9eee60-a24d-44b4-bf7c-b03427146657",
   "metadata": {},
   "outputs": [],
   "source": [
    "train_dataset = Dataset([d for d in flatten(train_circuits)], np.repeat(train_labels_final, 2, axis=0),  batch_size=BATCH_SIZE*2, shuffle=False)"
   ]
  },
  {
   "cell_type": "markdown",
   "id": "27da89b2-e9f1-4be3-aa2d-b297f252df27",
   "metadata": {},
   "source": [
    "## Train the model"
   ]
  },
  {
   "cell_type": "code",
   "execution_count": 19,
   "id": "4c9ef11c-5dc7-42fd-affb-8ed0b49c12ca",
   "metadata": {},
   "outputs": [
    {
     "name": "stderr",
     "output_type": "stream",
     "text": [
      "Epoch 1:    train/loss: 0.3799   valid/loss: -----   train/acc: 0.4500   valid/acc: -----\n",
      "Epoch 20:   train/loss: 0.3737   valid/loss: -----   train/acc: 0.4625   valid/acc: -----\n",
      "Epoch 40:   train/loss: 0.3534   valid/loss: -----   train/acc: 0.4875   valid/acc: -----\n",
      "Epoch 60:   train/loss: 0.3361   valid/loss: -----   train/acc: 0.5750   valid/acc: -----\n",
      "Epoch 80:   train/loss: 0.3234   valid/loss: -----   train/acc: 0.5750   valid/acc: -----\n",
      "Epoch 100:  train/loss: 0.3047   valid/loss: -----   train/acc: 0.6250   valid/acc: -----\n",
      "Epoch 120:  train/loss: 0.2914   valid/loss: -----   train/acc: 0.5875   valid/acc: -----\n",
      "Epoch 140:  train/loss: 0.2876   valid/loss: -----   train/acc: 0.6250   valid/acc: -----\n",
      "Epoch 160:  train/loss: 0.2643   valid/loss: -----   train/acc: 0.6625   valid/acc: -----\n",
      "Epoch 180:  train/loss: 0.2571   valid/loss: -----   train/acc: 0.6750   valid/acc: -----\n",
      "Epoch 200:  train/loss: 0.2406   valid/loss: -----   train/acc: 0.6750   valid/acc: -----\n",
      "Epoch 220:  train/loss: 0.2298   valid/loss: -----   train/acc: 0.7000   valid/acc: -----\n",
      "Epoch 240:  train/loss: 0.2185   valid/loss: -----   train/acc: 0.7250   valid/acc: -----\n",
      "Epoch 260:  train/loss: 0.2095   valid/loss: -----   train/acc: 0.7250   valid/acc: -----\n",
      "Epoch 280:  train/loss: 0.2002   valid/loss: -----   train/acc: 0.7500   valid/acc: -----\n",
      "Epoch 300:  train/loss: 0.1846   valid/loss: -----   train/acc: 0.8000   valid/acc: -----\n",
      "Epoch 320:  train/loss: 0.1781   valid/loss: -----   train/acc: 0.8250   valid/acc: -----\n",
      "Epoch 340:  train/loss: 0.1628   valid/loss: -----   train/acc: 0.9000   valid/acc: -----\n",
      "Epoch 360:  train/loss: 0.1541   valid/loss: -----   train/acc: 0.9000   valid/acc: -----\n",
      "Epoch 380:  train/loss: 0.1485   valid/loss: -----   train/acc: 0.9125   valid/acc: -----\n",
      "Epoch 400:  train/loss: 0.1478   valid/loss: -----   train/acc: 0.9500   valid/acc: -----\n",
      "Epoch 420:  train/loss: 0.1428   valid/loss: -----   train/acc: 0.9375   valid/acc: -----\n",
      "Epoch 440:  train/loss: 0.1488   valid/loss: -----   train/acc: 0.9625   valid/acc: -----\n",
      "Epoch 460:  train/loss: 0.1475   valid/loss: -----   train/acc: 0.9375   valid/acc: -----\n",
      "Epoch 480:  train/loss: 0.1288   valid/loss: -----   train/acc: 0.9625   valid/acc: -----\n",
      "Epoch 500:  train/loss: 0.1303   valid/loss: -----   train/acc: 0.9625   valid/acc: -----\n",
      "Epoch 520:  train/loss: 0.1176   valid/loss: -----   train/acc: 0.9500   valid/acc: -----\n",
      "Epoch 540:  train/loss: 0.1173   valid/loss: -----   train/acc: 0.9625   valid/acc: -----\n",
      "Epoch 560:  train/loss: 0.1176   valid/loss: -----   train/acc: 0.9875   valid/acc: -----\n",
      "Epoch 580:  train/loss: 0.1146   valid/loss: -----   train/acc: 0.9875   valid/acc: -----\n",
      "Epoch 600:  train/loss: 0.1074   valid/loss: -----   train/acc: 0.9750   valid/acc: -----\n",
      "\n",
      "Training completed!\n"
     ]
    }
   ],
   "source": [
    "trainer.fit(train_dataset, logging_step=20) #with single valued cos_sim and cross-entropy loss"
   ]
  },
  {
   "cell_type": "markdown",
   "id": "c4a9ddfc-8202-4bdb-9e5d-0d81d3306033",
   "metadata": {},
   "source": [
    "## Plot the loss and accuracy during training, and check model prediction accuracy with test dataset"
   ]
  },
  {
   "cell_type": "code",
   "execution_count": 20,
   "id": "f656a5c5-349c-4a48-8aaa-693e74dae32c",
   "metadata": {},
   "outputs": [
    {
     "name": "stdout",
     "output_type": "stream",
     "text": [
      "Test accuracy: 1.0\n"
     ]
    },
    {
     "data": {
      "image/png": "[encoded data removed]",
      "text/plain": [
       "<Figure size 432x720 with 2 Axes>"
      ]
     },
     "metadata": {
      "needs_background": "light"
     },
     "output_type": "display_data"
    }
   ],
   "source": [
    "fig, (ax_t, ax_b) = plt.subplots(2, 1, sharex=True, sharey='row', figsize=(6, 10))\n",
    "ax_t.set_title('Training set')\n",
    "#ax_tr.set_title('Development set')\n",
    "ax_b.set_xlabel('Iterations')\n",
    "#ax_br.set_xlabel('Iterations')\n",
    "ax_b.set_ylabel('Accuracy')\n",
    "ax_t.set_ylabel('Loss')\n",
    "\n",
    "colours = iter(plt.rcParams['axes.prop_cycle'].by_key()['color'])\n",
    "ax_t.plot(trainer.train_epoch_costs, color=next(colours))\n",
    "ax_b.plot(trainer.train_results['acc'], color=next(colours))\n",
    "#ax_tr.plot(trainer.val_costs, color=next(colours))\n",
    "#ax_br.plot(trainer.val_results['acc'], color=next(colours))\n",
    "\n",
    "test_acc = accuracy_func(model([d for d in flatten(test_circuits)]), np.repeat(test_labels_final, 2, axis=0))\n",
    "print('Test accuracy:', test_acc)"
   ]
  },
  {
   "cell_type": "code",
   "execution_count": 22,
   "id": "7359c669-5882-4a07-9074-41d36c33eaef",
   "metadata": {},
   "outputs": [],
   "source": [
    "model.make_checkpoint('datasets/cos_sim_mse_model')"
   ]
  },
  {
   "cell_type": "markdown",
   "id": "36ebcf63-9a0d-43ed-a0b4-ada1730fe748",
   "metadata": {},
   "source": [
    "## Check the circuit output for test dataset"
   ]
  },
  {
   "cell_type": "code",
   "execution_count": 21,
   "id": "dcf861e8-bbfb-406a-aeb9-7e58d59df865",
   "metadata": {},
   "outputs": [],
   "source": [
    "y_hat, y = model([d for d in flatten(test_circuits)]), np.repeat(test_labels_final, 2, axis=0)"
   ]
  },
  {
   "cell_type": "code",
   "execution_count": 22,
   "id": "a2fb8971-9fc1-4d9b-8a55-00751ffaf10f",
   "metadata": {},
   "outputs": [
    {
     "name": "stdout",
     "output_type": "stream",
     "text": [
      "1.0\n"
     ]
    }
   ],
   "source": [
    "y_hat_new  = []\n",
    "y_new = []\n",
    "ang = []\n",
    "cos = []\n",
    "\n",
    "for i in range(0, len(y_hat), 2):\n",
    "    cos_sim = np.dot(y_hat[i], y_hat[i+1])/(np.linalg.norm(y_hat[i])*np.linalg.norm(y_hat[i+1]))\n",
    "    theta = np.rad2deg(np.arccos(min(1.0, cos_sim)))\n",
    "    ang.append(theta);cos.append(cos_sim)\n",
    "    if theta <= 20:\n",
    "        y_hat_new.append(1) \n",
    "    else:\n",
    "        y_hat_new.append(0) \n",
    "    y_new.append(y[i])\n",
    "acc = 0\n",
    "for i, j in zip(y_hat_new, y_new):\n",
    "    if i==j:\n",
    "        acc += 1\n",
    "print(acc/len(y_new))"
   ]
  },
  {
   "cell_type": "code",
   "execution_count": 23,
   "id": "91751b61-bfd0-42e2-8cac-30d50a015d26",
   "metadata": {},
   "outputs": [
    {
     "name": "stdout",
     "output_type": "stream",
     "text": [
      "truth 1, prediction 1, angel 5.438587 cos_sim 0.995498\n",
      "[[0.8123625  0.18763745]\n",
      " [0.7498959  0.25010413]]\n",
      "truth 0, prediction 0, angel 49.191238 cos_sim 0.653536\n",
      "[[0.7498959  0.25010413]\n",
      " [0.2915041  0.70849586]]\n",
      "truth 1, prediction 1, angel 3.034865 cos_sim 0.998598\n",
      "[[0.1126157  0.88738436]\n",
      " [0.15336454 0.8466354 ]]\n",
      "truth 1, prediction 1, angel 13.176252 cos_sim 0.973673\n",
      "[[0.9128588 0.0871412]\n",
      " [0.7478849 0.252115 ]]\n",
      "truth 0, prediction 0, angel 70.465324 cos_sim 0.334377\n",
      "[[0.9682819  0.03171809]\n",
      " [0.241472   0.758528  ]]\n",
      "truth 0, prediction 0, angel 66.863686 cos_sim 0.392920\n",
      "[[0.19783467 0.8021653 ]\n",
      " [0.85952246 0.1404775 ]]\n",
      "truth 1, prediction 1, angel 13.857274 cos_sim 0.970895\n",
      "[[0.13509886 0.8649011 ]\n",
      " [0.295294   0.704706  ]]\n",
      "truth 0, prediction 0, angel 35.144989 cos_sim 0.817698\n",
      "[[0.4521307  0.5478693 ]\n",
      " [0.7849202  0.21507972]]\n",
      "truth 1, prediction 1, angel 3.730667 cos_sim 0.997881\n",
      "[[0.9114137  0.08858625]\n",
      " [0.85952246 0.1404775 ]]\n",
      "truth 1, prediction 1, angel 1.382818 cos_sim 0.999709\n",
      "[[0.8308085  0.16919155]\n",
      " [0.8137292  0.18627074]]\n",
      "truth 1, prediction 1, angel 10.069388 cos_sim 0.984597\n",
      "[[0.24608375 0.75391626]\n",
      " [0.12332785 0.87667215]]\n",
      "truth 0, prediction 0, angel 49.407646 cos_sim 0.650673\n",
      "[[0.32198915 0.6780108 ]\n",
      " [0.786478   0.21352197]]\n",
      "truth 0, prediction 0, angel 47.584141 cos_sim 0.674507\n",
      "[[0.3433696  0.6566304 ]\n",
      " [0.79089487 0.20910513]]\n",
      "truth 0, prediction 0, angel 73.157913 cos_sim 0.289735\n",
      "[[0.8137292  0.18627074]\n",
      " [0.06456924 0.93543077]]\n",
      "truth 0, prediction 0, angel 75.768402 cos_sim 0.245842\n",
      "[[0.8464366  0.1535634 ]\n",
      " [0.06456924 0.93543077]]\n",
      "truth 0, prediction 0, angel 66.440758 cos_sim 0.399697\n",
      "[[0.786478   0.21352197]\n",
      " [0.12826167 0.8717383 ]]\n",
      "truth 0, prediction 0, angel 71.238533 cos_sim 0.321629\n",
      "[[0.13697436 0.86302567]\n",
      " [0.8534561  0.14654386]]\n",
      "truth 1, prediction 1, angel 13.015400 cos_sim 0.974310\n",
      "[[0.28666323 0.71333677]\n",
      " [0.13509886 0.8649011 ]]\n",
      "truth 1, prediction 1, angel 4.598533 cos_sim 0.996781\n",
      "[[0.24608375 0.75391626]\n",
      " [0.29468566 0.70531434]]\n",
      "truth 0, prediction 0, angel 62.792084 cos_sim 0.457221\n",
      "[[0.29468566 0.70531434]\n",
      " [0.9265519  0.07344811]]\n"
     ]
    }
   ],
   "source": [
    "j = 0\n",
    "for i,a in enumerate(ang):\n",
    "    print('truth %d, prediction %d, angel %f cos_sim %f' %(y_new[i], y_hat_new[i], a, cos[i]))\n",
    "    print(y_hat[j:j+2])\n",
    "    j += 2"
   ]
  },
  {
   "cell_type": "code",
   "execution_count": null,
   "id": "3d0c938c-7769-495a-a30f-0f6825bc7e6f",
   "metadata": {},
   "outputs": [],
   "source": []
  }
 ],
 "metadata": {
  "kernelspec": {
   "display_name": "Python 3 (ipykernel)",
   "language": "python",
   "name": "python3"
  },
  "language_info": {
   "codemirror_mode": {
    "name": "ipython",
    "version": 3
   },
   "file_extension": ".py",
   "mimetype": "text/x-python",
   "name": "python",
   "nbconvert_exporter": "python",
   "pygments_lexer": "ipython3",
   "version": "3.9.12"
  }
 },
 "nbformat": 4,
 "nbformat_minor": 5
}
