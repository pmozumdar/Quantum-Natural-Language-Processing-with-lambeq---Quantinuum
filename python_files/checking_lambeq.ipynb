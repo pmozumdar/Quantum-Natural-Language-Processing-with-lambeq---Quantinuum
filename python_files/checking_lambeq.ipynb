{
 "cells": [
  {
   "cell_type": "code",
   "execution_count": null,
   "id": "4fe4b41f-d427-47fb-b7f5-b8aae697051c",
   "metadata": {},
   "outputs": [],
   "source": [
    "from lambeq import BobcatParser, Rewriter, AtomicType, IQPAnsatz, remove_cups\n",
    "from lambeq import Dataset, TketModel,  QuantumTrainer, SPSAOptimizer\n",
    "from discopy import grammar\n",
    "\n",
    "#from pytket.circuit.display import render_circuit_jupyter\n",
    "#from pytket.extensions.qiskit import tk_to_qiskit, AerBackend\n",
    "\n",
    "import os\n",
    "import warnings\n",
    "import numpy as np\n",
    "import matplotlib.pyplot as plt\n",
    "\n",
    "warnings.filterwarnings('ignore')\n",
    "os.environ['TOKENIZERS_PARALLELISM'] = 'false'"
   ]
  },
  {
   "cell_type": "code",
   "execution_count": 3,
   "id": "2fd3401c-c608-48d7-9e91-209c53c2aba8",
   "metadata": {},
   "outputs": [],
   "source": [
    "fl = open('datasets/MC1.txt', 'r')"
   ]
  },
  {
   "cell_type": "code",
   "execution_count": 4,
   "id": "20d07168-37cb-4a2a-b8fa-45c1f8d23c27",
   "metadata": {},
   "outputs": [],
   "source": [
    "data = []\n",
    "for line in fl:\n",
    "    l = line.strip().split(',')\n",
    "    data.append(l)\n",
    "fl.close()"
   ]
  },
  {
   "cell_type": "code",
   "execution_count": 5,
   "id": "c1458fcd-b976-45dd-ab88-72256a6f74f5",
   "metadata": {},
   "outputs": [],
   "source": [
    "diagram = []\n",
    "parser = BobcatParser( verbose='suppress') \n",
    "for i in range(5):\n",
    "    sentence =  data[i][0]  #'food is prepared by a chef' \n",
    "\n",
    "    # Parse the sentence and convert it into a string diagram\n",
    "    #root_cats=['N', 'NP'],\n",
    "    diagram.append(parser.sentence2diagram(sentence))\n",
    "\n",
    "    #grammar.draw(diagram, figsize=(14,3), fontsize=12)"
   ]
  },
  {
   "cell_type": "code",
   "execution_count": 8,
   "id": "aa752683-0738-4e0f-999a-7f62e61796d5",
   "metadata": {},
   "outputs": [],
   "source": [
    "diagram[0].draw(figsize=(14,3), fontsize=12, path='sentence_diagram.pdf')\n",
    "#plt.savefig('sentence_diagram.pdf', dpi='figure')"
   ]
  },
  {
   "cell_type": "code",
   "execution_count": 5,
   "id": "23392eb9-ad67-4bbf-9dbe-3bd47a3bf5e9",
   "metadata": {},
   "outputs": [
    {
     "data": {
      "image/png": "[encoded data removed]",
      "text/plain": [
       "<Figure size 792x360 with 1 Axes>"
      ]
     },
     "metadata": {},
     "output_type": "display_data"
    }
   ],
   "source": [
    "rewriter = Rewriter(['auxiliary', 'determiner', 'curry'])\n",
    "rewritten_diagram = rewriter(diagram)\n",
    "\n",
    "rewritten_diagram.draw(figsize=(11,5), fontsize=13)"
   ]
  },
  {
   "cell_type": "code",
   "execution_count": 6,
   "id": "f2d244b4-728c-4361-9215-82135e8765c6",
   "metadata": {},
   "outputs": [
    {
     "data": {
      "image/png": "[encoded data removed]",
      "text/plain": [
       "<Figure size 648x288 with 1 Axes>"
      ]
     },
     "metadata": {},
     "output_type": "display_data"
    }
   ],
   "source": [
    "normalised_diagram = rewritten_diagram.normal_form()\n",
    "normalised_diagram.draw(figsize=(9,4), fontsize=13)"
   ]
  },
  {
   "cell_type": "code",
   "execution_count": null,
   "id": "42606c99-4926-4be2-907b-b931c68e603a",
   "metadata": {},
   "outputs": [],
   "source": [
    "# Define atomic types\n",
    "N = AtomicType.NOUN\n",
    "S = AtomicType.SENTENCE\n",
    "\n",
    "# Convert string diagram to quantum circuit\n",
    "ansatz = IQPAnsatz({N: 1, S: 1}, n_layers=1, n_single_qubit_params=7)\n",
    "discopy_circuit = [ansatz(d) for d in diagram]\n",
    "#discopy_circuit.draw(figsize=(15,10))"
   ]
  },
  {
   "cell_type": "code",
   "execution_count": 48,
   "id": "0a384a39-b78e-4f26-a3ca-d476490a12d5",
   "metadata": {},
   "outputs": [],
   "source": [
    "from sympy import default_sort_key\n",
    "\n",
    "parameters = sorted(\n",
    "   { sym for circ in discopy_circuit for sym in circ.free_symbols},\n",
    "    key=default_sort_key\n",
    ")\n",
    "param_dict = {p: i * 0.001 for i, p in enumerate(parameters)}\n",
    "#param_dict"
   ]
  },
  {
   "cell_type": "code",
   "execution_count": 50,
   "id": "31940261-e5ef-432a-8163-dc5b1e1d3625",
   "metadata": {},
   "outputs": [
    {
     "ename": "SyntaxError",
     "evalue": "invalid syntax (2274159116.py, line 1)",
     "output_type": "error",
     "traceback": [
      "\u001b[0;36m  Input \u001b[0;32mIn [50]\u001b[0;36m\u001b[0m\n\u001b[0;31m    nc = [d.lambdify(*param_dict[*parameters])(*parameters)  for d in discopy_circuit]#, discopy_circuit\u001b[0m\n\u001b[0m                                            ^\u001b[0m\n\u001b[0;31mSyntaxError\u001b[0m\u001b[0;31m:\u001b[0m invalid syntax\n"
     ]
    }
   ],
   "source": [
    "nc = [d.lambdify(*param_dict[*parameters])(*parameters)  for d in discopy_circuit]#, discopy_circuit\n",
    "#d = discopy_circuit[0].to_tk()\n",
    "#d.symbol_substitution(param_dict)"
   ]
  },
  {
   "cell_type": "code",
   "execution_count": 46,
   "id": "9e4f6cb4-9664-4399-8f3f-02cc9e72e4bf",
   "metadata": {},
   "outputs": [
    {
     "data": {
      "text/plain": [
       "Circuit(dom=Ty(), cod=qubit, boxes=[Ket(0), Rx(cook__n_0), Rz(cook__n_1), Rx(cook__n_2), Rz(cook__n_3), Rx(cook__n_4), Rz(cook__n_5), Rx(cook__n_6), Ket(0, 0, 0), H, H, H, Controlled(Rz(creates__n.r@s@n.l_0), distance=1), Controlled(Rz(creates__n.r@s@n.l_1), distance=1), Ket(0, 0), H, H, Controlled(Rz(complicated__n@n.l_0), distance=1), Ket(0), Rx(dish__n_0), Rz(dish__n_1), Rx(dish__n_2), Rz(dish__n_3), Rx(dish__n_4), Rz(dish__n_5), Rx(dish__n_6), CX, H, sqrt(2), Bra(0, 0), CX, H, sqrt(2), Bra(0, 0), CX, H, sqrt(2), Bra(0, 0)], offsets=[0, 0, 0, 0, 0, 0, 0, 0, 1, 1, 2, 3, 1, 2, 4, 4, 5, 4, 6, 6, 6, 6, 6, 6, 6, 6, 5, 5, 6, 5, 3, 3, 4, 3, 0, 0, 1, 0])"
      ]
     },
     "execution_count": 46,
     "metadata": {},
     "output_type": "execute_result"
    }
   ],
   "source": [
    "discopy_circuit[0].lambdify"
   ]
  },
  {
   "cell_type": "code",
   "execution_count": 28,
   "id": "e8f1ecf6-517b-4a9d-8ae1-1b919f12dddb",
   "metadata": {},
   "outputs": [
    {
     "data": {
      "text/plain": [
       "Circuit(dom=Ty(), cod=qubit, boxes=[Ket(0), Rx(cook__n_0), Rz(cook__n_1), Rx(cook__n_2), Rz(cook__n_3), Rx(cook__n_4), Rz(cook__n_5), Rx(cook__n_6), Ket(0, 0, 0), H, H, H, Controlled(Rz(creates__n.r@s@n.l_0), distance=1), Controlled(Rz(creates__n.r@s@n.l_1), distance=1), Ket(0, 0), H, H, Controlled(Rz(complicated__n@n.l_0), distance=1), Ket(0), Rx(dish__n_0), Rz(dish__n_1), Rx(dish__n_2), Rz(dish__n_3), Rx(dish__n_4), Rz(dish__n_5), Rx(dish__n_6), CX, H, sqrt(2), Bra(0, 0), CX, H, sqrt(2), Bra(0, 0), CX, H, sqrt(2), Bra(0, 0)], offsets=[0, 0, 0, 0, 0, 0, 0, 0, 1, 1, 2, 3, 1, 2, 4, 4, 5, 4, 6, 6, 6, 6, 6, 6, 6, 6, 5, 5, 6, 5, 3, 3, 4, 3, 0, 0, 1, 0])"
      ]
     },
     "execution_count": 28,
     "metadata": {},
     "output_type": "execute_result"
    }
   ],
   "source": [
    "discopy_circuit[0]"
   ]
  },
  {
   "cell_type": "code",
   "execution_count": 21,
   "id": "3ff1c3c6-0c93-47d6-957d-9a003a882152",
   "metadata": {},
   "outputs": [
    {
     "ename": "ValueError",
     "evalue": "all input arrays must have the same shape",
     "output_type": "error",
     "traceback": [
      "\u001b[0;31m---------------------------------------------------------------------------\u001b[0m",
      "\u001b[0;31mValueError\u001b[0m                                Traceback (most recent call last)",
      "Input \u001b[0;32mIn [21]\u001b[0m, in \u001b[0;36m<cell line: 1>\u001b[0;34m()\u001b[0m\n\u001b[0;32m----> 1\u001b[0m np\u001b[38;5;241m.\u001b[39marray([c\u001b[38;5;241m.\u001b[39meval(mixed\u001b[38;5;241m=\u001b[39m\u001b[38;5;28;01mFalse\u001b[39;00m)\u001b[38;5;241m.\u001b[39marray \u001b[38;5;28;01mfor\u001b[39;00m c \u001b[38;5;129;01min\u001b[39;00m nc])\n",
      "Input \u001b[0;32mIn [21]\u001b[0m, in \u001b[0;36m<listcomp>\u001b[0;34m(.0)\u001b[0m\n\u001b[0;32m----> 1\u001b[0m np\u001b[38;5;241m.\u001b[39marray([\u001b[43mc\u001b[49m\u001b[38;5;241;43m.\u001b[39;49m\u001b[43meval\u001b[49m\u001b[43m(\u001b[49m\u001b[43mmixed\u001b[49m\u001b[38;5;241;43m=\u001b[39;49m\u001b[38;5;28;43;01mFalse\u001b[39;49;00m\u001b[43m)\u001b[49m\u001b[38;5;241m.\u001b[39marray \u001b[38;5;28;01mfor\u001b[39;00m c \u001b[38;5;129;01min\u001b[39;00m nc])\n",
      "File \u001b[0;32m~/.qbraid/environments/womanium_go14xk/pyenv/lib/python3.9/site-packages/discopy/quantum/circuit.py:285\u001b[0m, in \u001b[0;36mCircuit.eval\u001b[0;34m(self, backend, mixed, contractor, *others, **params)\u001b[0m\n\u001b[1;32m    281\u001b[0m         \u001b[38;5;28;01mreturn\u001b[39;00m [circuit\u001b[38;5;241m.\u001b[39meval(mixed\u001b[38;5;241m=\u001b[39mmixed, \u001b[38;5;241m*\u001b[39m\u001b[38;5;241m*\u001b[39mparams)\n\u001b[1;32m    282\u001b[0m                 \u001b[38;5;28;01mfor\u001b[39;00m circuit \u001b[38;5;129;01min\u001b[39;00m (\u001b[38;5;28mself\u001b[39m, ) \u001b[38;5;241m+\u001b[39m others]\n\u001b[1;32m    283\u001b[0m     functor \u001b[38;5;241m=\u001b[39m cqmap\u001b[38;5;241m.\u001b[39mFunctor() \u001b[38;5;28;01mif\u001b[39;00m mixed \u001b[38;5;129;01mor\u001b[39;00m \u001b[38;5;28mself\u001b[39m\u001b[38;5;241m.\u001b[39mis_mixed\\\n\u001b[1;32m    284\u001b[0m         \u001b[38;5;28;01melse\u001b[39;00m tensor\u001b[38;5;241m.\u001b[39mFunctor(\u001b[38;5;28;01mlambda\u001b[39;00m x: x[\u001b[38;5;241m0\u001b[39m]\u001b[38;5;241m.\u001b[39mdim, \u001b[38;5;28;01mlambda\u001b[39;00m f: f\u001b[38;5;241m.\u001b[39marray)\n\u001b[0;32m--> 285\u001b[0m     box \u001b[38;5;241m=\u001b[39m \u001b[43mfunctor\u001b[49m\u001b[43m(\u001b[49m\u001b[38;5;28;43mself\u001b[39;49m\u001b[43m)\u001b[49m\n\u001b[1;32m    286\u001b[0m     \u001b[38;5;28;01mreturn\u001b[39;00m \u001b[38;5;28mtype\u001b[39m(box)(box\u001b[38;5;241m.\u001b[39mdom, box\u001b[38;5;241m.\u001b[39mcod, box\u001b[38;5;241m.\u001b[39marray \u001b[38;5;241m+\u001b[39m \u001b[38;5;241m0\u001b[39mj)\n\u001b[1;32m    287\u001b[0m circuits \u001b[38;5;241m=\u001b[39m [circuit\u001b[38;5;241m.\u001b[39mto_tk() \u001b[38;5;28;01mfor\u001b[39;00m circuit \u001b[38;5;129;01min\u001b[39;00m (\u001b[38;5;28mself\u001b[39m, ) \u001b[38;5;241m+\u001b[39m others]\n",
      "File \u001b[0;32m~/.qbraid/environments/womanium_go14xk/pyenv/lib/python3.9/site-packages/discopy/tensor.py:469\u001b[0m, in \u001b[0;36mFunctor.__call__\u001b[0;34m(self, diagram)\u001b[0m\n\u001b[1;32m    465\u001b[0m source \u001b[38;5;241m=\u001b[39m \u001b[38;5;28mlist\u001b[39m(\u001b[38;5;28mrange\u001b[39m(dim(diagram\u001b[38;5;241m.\u001b[39mdom) \u001b[38;5;241m+\u001b[39m left,\n\u001b[1;32m    466\u001b[0m                     dim(diagram\u001b[38;5;241m.\u001b[39mdom) \u001b[38;5;241m+\u001b[39m left \u001b[38;5;241m+\u001b[39m dim(box\u001b[38;5;241m.\u001b[39mdom)))\n\u001b[1;32m    467\u001b[0m target \u001b[38;5;241m=\u001b[39m \u001b[38;5;28mlist\u001b[39m(\u001b[38;5;28mrange\u001b[39m(dim(box\u001b[38;5;241m.\u001b[39mdom)))\n\u001b[1;32m    468\u001b[0m array \u001b[38;5;241m=\u001b[39m\\\n\u001b[0;32m--> 469\u001b[0m     Tensor\u001b[38;5;241m.\u001b[39mnp\u001b[38;5;241m.\u001b[39mtensordot(array, \u001b[38;5;28;43mself\u001b[39;49m\u001b[43m(\u001b[49m\u001b[43mbox\u001b[49m\u001b[43m)\u001b[49m\u001b[38;5;241m.\u001b[39marray, (source, target))\n\u001b[1;32m    470\u001b[0m source \u001b[38;5;241m=\u001b[39m \u001b[38;5;28mrange\u001b[39m(\u001b[38;5;28mlen\u001b[39m(array\u001b[38;5;241m.\u001b[39mshape) \u001b[38;5;241m-\u001b[39m dim(box\u001b[38;5;241m.\u001b[39mcod), \u001b[38;5;28mlen\u001b[39m(array\u001b[38;5;241m.\u001b[39mshape))\n\u001b[1;32m    471\u001b[0m target \u001b[38;5;241m=\u001b[39m \u001b[38;5;28mrange\u001b[39m(dim(diagram\u001b[38;5;241m.\u001b[39mdom) \u001b[38;5;241m+\u001b[39m left,\n\u001b[1;32m    472\u001b[0m                dim(diagram\u001b[38;5;241m.\u001b[39mdom) \u001b[38;5;241m+\u001b[39m left \u001b[38;5;241m+\u001b[39m dim(box\u001b[38;5;241m.\u001b[39mcod))\n",
      "File \u001b[0;32m~/.qbraid/environments/womanium_go14xk/pyenv/lib/python3.9/site-packages/discopy/tensor.py:445\u001b[0m, in \u001b[0;36mFunctor.__call__\u001b[0;34m(self, diagram)\u001b[0m\n\u001b[1;32m    442\u001b[0m     \u001b[38;5;28;01mif\u001b[39;00m diagram\u001b[38;5;241m.\u001b[39mis_dagger:\n\u001b[1;32m    443\u001b[0m         \u001b[38;5;28;01mreturn\u001b[39;00m \u001b[38;5;28mself\u001b[39m(diagram\u001b[38;5;241m.\u001b[39mdagger())\u001b[38;5;241m.\u001b[39mdagger()\n\u001b[1;32m    444\u001b[0m     \u001b[38;5;28;01mreturn\u001b[39;00m Tensor(\u001b[38;5;28mself\u001b[39m(diagram\u001b[38;5;241m.\u001b[39mdom), \u001b[38;5;28mself\u001b[39m(diagram\u001b[38;5;241m.\u001b[39mcod),\n\u001b[0;32m--> 445\u001b[0m                   \u001b[38;5;28;43mself\u001b[39;49m\u001b[38;5;241;43m.\u001b[39;49m\u001b[43mar\u001b[49m\u001b[43m[\u001b[49m\u001b[43mdiagram\u001b[49m\u001b[43m]\u001b[49m)\n\u001b[1;32m    446\u001b[0m \u001b[38;5;28;01mif\u001b[39;00m \u001b[38;5;129;01mnot\u001b[39;00m \u001b[38;5;28misinstance\u001b[39m(diagram, monoidal\u001b[38;5;241m.\u001b[39mDiagram):\n\u001b[1;32m    447\u001b[0m     \u001b[38;5;28;01mraise\u001b[39;00m \u001b[38;5;167;01mTypeError\u001b[39;00m(messages\u001b[38;5;241m.\u001b[39mtype_err(monoidal\u001b[38;5;241m.\u001b[39mDiagram, diagram))\n",
      "File \u001b[0;32m~/.qbraid/environments/womanium_go14xk/pyenv/lib/python3.9/site-packages/discopy/cat.py:961\u001b[0m, in \u001b[0;36mQuiver.__getitem__\u001b[0;34m(self, box)\u001b[0m\n\u001b[1;32m    960\u001b[0m \u001b[38;5;28;01mdef\u001b[39;00m \u001b[38;5;21m__getitem__\u001b[39m(\u001b[38;5;28mself\u001b[39m, box):\n\u001b[0;32m--> 961\u001b[0m     \u001b[38;5;28;01mreturn\u001b[39;00m \u001b[38;5;28;43mself\u001b[39;49m\u001b[38;5;241;43m.\u001b[39;49m\u001b[43m_func\u001b[49m\u001b[43m(\u001b[49m\u001b[43mbox\u001b[49m\u001b[43m)\u001b[49m\n",
      "File \u001b[0;32m~/.qbraid/environments/womanium_go14xk/pyenv/lib/python3.9/site-packages/discopy/quantum/circuit.py:284\u001b[0m, in \u001b[0;36mCircuit.eval.<locals>.<lambda>\u001b[0;34m(f)\u001b[0m\n\u001b[1;32m    280\u001b[0m \u001b[38;5;28;01mif\u001b[39;00m others:\n\u001b[1;32m    281\u001b[0m     \u001b[38;5;28;01mreturn\u001b[39;00m [circuit\u001b[38;5;241m.\u001b[39meval(mixed\u001b[38;5;241m=\u001b[39mmixed, \u001b[38;5;241m*\u001b[39m\u001b[38;5;241m*\u001b[39mparams)\n\u001b[1;32m    282\u001b[0m             \u001b[38;5;28;01mfor\u001b[39;00m circuit \u001b[38;5;129;01min\u001b[39;00m (\u001b[38;5;28mself\u001b[39m, ) \u001b[38;5;241m+\u001b[39m others]\n\u001b[1;32m    283\u001b[0m functor \u001b[38;5;241m=\u001b[39m cqmap\u001b[38;5;241m.\u001b[39mFunctor() \u001b[38;5;28;01mif\u001b[39;00m mixed \u001b[38;5;129;01mor\u001b[39;00m \u001b[38;5;28mself\u001b[39m\u001b[38;5;241m.\u001b[39mis_mixed\\\n\u001b[0;32m--> 284\u001b[0m     \u001b[38;5;28;01melse\u001b[39;00m tensor\u001b[38;5;241m.\u001b[39mFunctor(\u001b[38;5;28;01mlambda\u001b[39;00m x: x[\u001b[38;5;241m0\u001b[39m]\u001b[38;5;241m.\u001b[39mdim, \u001b[38;5;28;01mlambda\u001b[39;00m f: \u001b[43mf\u001b[49m\u001b[38;5;241;43m.\u001b[39;49m\u001b[43marray\u001b[49m)\n\u001b[1;32m    285\u001b[0m box \u001b[38;5;241m=\u001b[39m functor(\u001b[38;5;28mself\u001b[39m)\n\u001b[1;32m    286\u001b[0m \u001b[38;5;28;01mreturn\u001b[39;00m \u001b[38;5;28mtype\u001b[39m(box)(box\u001b[38;5;241m.\u001b[39mdom, box\u001b[38;5;241m.\u001b[39mcod, box\u001b[38;5;241m.\u001b[39marray \u001b[38;5;241m+\u001b[39m \u001b[38;5;241m0\u001b[39mj)\n",
      "File \u001b[0;32m~/.qbraid/environments/womanium_go14xk/pyenv/lib/python3.9/site-packages/discopy/quantum/gates.py:526\u001b[0m, in \u001b[0;36mRz.array\u001b[0;34m(self)\u001b[0m\n\u001b[1;32m    524\u001b[0m e2 \u001b[38;5;241m=\u001b[39m \u001b[38;5;28mself\u001b[39m\u001b[38;5;241m.\u001b[39mmodules\u001b[38;5;241m.\u001b[39mexp(\u001b[38;5;241m1\u001b[39mj \u001b[38;5;241m*\u001b[39m half_theta)\n\u001b[1;32m    525\u001b[0m z \u001b[38;5;241m=\u001b[39m Tensor\u001b[38;5;241m.\u001b[39mnp\u001b[38;5;241m.\u001b[39marray(\u001b[38;5;241m0\u001b[39m)\n\u001b[0;32m--> 526\u001b[0m \u001b[38;5;28;01mreturn\u001b[39;00m \u001b[43mTensor\u001b[49m\u001b[38;5;241;43m.\u001b[39;49m\u001b[43mnp\u001b[49m\u001b[38;5;241;43m.\u001b[39;49m\u001b[43mstack\u001b[49m\u001b[43m(\u001b[49m\u001b[43m(\u001b[49m\u001b[43me1\u001b[49m\u001b[43m,\u001b[49m\u001b[43m \u001b[49m\u001b[43mz\u001b[49m\u001b[43m,\u001b[49m\u001b[43m \u001b[49m\u001b[43mz\u001b[49m\u001b[43m,\u001b[49m\u001b[43m \u001b[49m\u001b[43me2\u001b[49m\u001b[43m)\u001b[49m\u001b[43m)\u001b[49m\u001b[38;5;241m.\u001b[39mreshape(\u001b[38;5;241m2\u001b[39m, \u001b[38;5;241m2\u001b[39m)\n",
      "File \u001b[0;32m<__array_function__ internals>:180\u001b[0m, in \u001b[0;36mstack\u001b[0;34m(*args, **kwargs)\u001b[0m\n",
      "File \u001b[0;32m~/.qbraid/environments/womanium_go14xk/pyenv/lib/python3.9/site-packages/numpy/core/shape_base.py:426\u001b[0m, in \u001b[0;36mstack\u001b[0;34m(arrays, axis, out)\u001b[0m\n\u001b[1;32m    424\u001b[0m shapes \u001b[38;5;241m=\u001b[39m {arr\u001b[38;5;241m.\u001b[39mshape \u001b[38;5;28;01mfor\u001b[39;00m arr \u001b[38;5;129;01min\u001b[39;00m arrays}\n\u001b[1;32m    425\u001b[0m \u001b[38;5;28;01mif\u001b[39;00m \u001b[38;5;28mlen\u001b[39m(shapes) \u001b[38;5;241m!=\u001b[39m \u001b[38;5;241m1\u001b[39m:\n\u001b[0;32m--> 426\u001b[0m     \u001b[38;5;28;01mraise\u001b[39;00m \u001b[38;5;167;01mValueError\u001b[39;00m(\u001b[38;5;124m'\u001b[39m\u001b[38;5;124mall input arrays must have the same shape\u001b[39m\u001b[38;5;124m'\u001b[39m)\n\u001b[1;32m    428\u001b[0m result_ndim \u001b[38;5;241m=\u001b[39m arrays[\u001b[38;5;241m0\u001b[39m]\u001b[38;5;241m.\u001b[39mndim \u001b[38;5;241m+\u001b[39m \u001b[38;5;241m1\u001b[39m\n\u001b[1;32m    429\u001b[0m axis \u001b[38;5;241m=\u001b[39m normalize_axis_index(axis, result_ndim)\n",
      "\u001b[0;31mValueError\u001b[0m: all input arrays must have the same shape"
     ]
    }
   ],
   "source": [
    "np.array([c.eval(mixed=False).array for c in nc])"
   ]
  },
  {
   "cell_type": "code",
   "execution_count": 11,
   "id": "418744bc-6874-4549-b249-a308f44bcffa",
   "metadata": {},
   "outputs": [
    {
     "ename": "ValueError",
     "evalue": "all input arrays must have the same shape",
     "output_type": "error",
     "traceback": [
      "\u001b[0;31m---------------------------------------------------------------------------\u001b[0m",
      "\u001b[0;31mValueError\u001b[0m                                Traceback (most recent call last)",
      "Input \u001b[0;32mIn [11]\u001b[0m, in \u001b[0;36m<cell line: 1>\u001b[0;34m()\u001b[0m\n\u001b[0;32m----> 1\u001b[0m \u001b[43mnc\u001b[49m\u001b[38;5;241;43m.\u001b[39;49m\u001b[43meval\u001b[49m\u001b[43m(\u001b[49m\u001b[43m)\u001b[49m\u001b[38;5;241m.\u001b[39marray\n",
      "File \u001b[0;32m~/.qbraid/environments/womanium_go14xk/pyenv/lib/python3.9/site-packages/discopy/quantum/circuit.py:285\u001b[0m, in \u001b[0;36mCircuit.eval\u001b[0;34m(self, backend, mixed, contractor, *others, **params)\u001b[0m\n\u001b[1;32m    281\u001b[0m         \u001b[38;5;28;01mreturn\u001b[39;00m [circuit\u001b[38;5;241m.\u001b[39meval(mixed\u001b[38;5;241m=\u001b[39mmixed, \u001b[38;5;241m*\u001b[39m\u001b[38;5;241m*\u001b[39mparams)\n\u001b[1;32m    282\u001b[0m                 \u001b[38;5;28;01mfor\u001b[39;00m circuit \u001b[38;5;129;01min\u001b[39;00m (\u001b[38;5;28mself\u001b[39m, ) \u001b[38;5;241m+\u001b[39m others]\n\u001b[1;32m    283\u001b[0m     functor \u001b[38;5;241m=\u001b[39m cqmap\u001b[38;5;241m.\u001b[39mFunctor() \u001b[38;5;28;01mif\u001b[39;00m mixed \u001b[38;5;129;01mor\u001b[39;00m \u001b[38;5;28mself\u001b[39m\u001b[38;5;241m.\u001b[39mis_mixed\\\n\u001b[1;32m    284\u001b[0m         \u001b[38;5;28;01melse\u001b[39;00m tensor\u001b[38;5;241m.\u001b[39mFunctor(\u001b[38;5;28;01mlambda\u001b[39;00m x: x[\u001b[38;5;241m0\u001b[39m]\u001b[38;5;241m.\u001b[39mdim, \u001b[38;5;28;01mlambda\u001b[39;00m f: f\u001b[38;5;241m.\u001b[39marray)\n\u001b[0;32m--> 285\u001b[0m     box \u001b[38;5;241m=\u001b[39m \u001b[43mfunctor\u001b[49m\u001b[43m(\u001b[49m\u001b[38;5;28;43mself\u001b[39;49m\u001b[43m)\u001b[49m\n\u001b[1;32m    286\u001b[0m     \u001b[38;5;28;01mreturn\u001b[39;00m \u001b[38;5;28mtype\u001b[39m(box)(box\u001b[38;5;241m.\u001b[39mdom, box\u001b[38;5;241m.\u001b[39mcod, box\u001b[38;5;241m.\u001b[39marray \u001b[38;5;241m+\u001b[39m \u001b[38;5;241m0\u001b[39mj)\n\u001b[1;32m    287\u001b[0m circuits \u001b[38;5;241m=\u001b[39m [circuit\u001b[38;5;241m.\u001b[39mto_tk() \u001b[38;5;28;01mfor\u001b[39;00m circuit \u001b[38;5;129;01min\u001b[39;00m (\u001b[38;5;28mself\u001b[39m, ) \u001b[38;5;241m+\u001b[39m others]\n",
      "File \u001b[0;32m~/.qbraid/environments/womanium_go14xk/pyenv/lib/python3.9/site-packages/discopy/tensor.py:469\u001b[0m, in \u001b[0;36mFunctor.__call__\u001b[0;34m(self, diagram)\u001b[0m\n\u001b[1;32m    465\u001b[0m source \u001b[38;5;241m=\u001b[39m \u001b[38;5;28mlist\u001b[39m(\u001b[38;5;28mrange\u001b[39m(dim(diagram\u001b[38;5;241m.\u001b[39mdom) \u001b[38;5;241m+\u001b[39m left,\n\u001b[1;32m    466\u001b[0m                     dim(diagram\u001b[38;5;241m.\u001b[39mdom) \u001b[38;5;241m+\u001b[39m left \u001b[38;5;241m+\u001b[39m dim(box\u001b[38;5;241m.\u001b[39mdom)))\n\u001b[1;32m    467\u001b[0m target \u001b[38;5;241m=\u001b[39m \u001b[38;5;28mlist\u001b[39m(\u001b[38;5;28mrange\u001b[39m(dim(box\u001b[38;5;241m.\u001b[39mdom)))\n\u001b[1;32m    468\u001b[0m array \u001b[38;5;241m=\u001b[39m\\\n\u001b[0;32m--> 469\u001b[0m     Tensor\u001b[38;5;241m.\u001b[39mnp\u001b[38;5;241m.\u001b[39mtensordot(array, \u001b[38;5;28;43mself\u001b[39;49m\u001b[43m(\u001b[49m\u001b[43mbox\u001b[49m\u001b[43m)\u001b[49m\u001b[38;5;241m.\u001b[39marray, (source, target))\n\u001b[1;32m    470\u001b[0m source \u001b[38;5;241m=\u001b[39m \u001b[38;5;28mrange\u001b[39m(\u001b[38;5;28mlen\u001b[39m(array\u001b[38;5;241m.\u001b[39mshape) \u001b[38;5;241m-\u001b[39m dim(box\u001b[38;5;241m.\u001b[39mcod), \u001b[38;5;28mlen\u001b[39m(array\u001b[38;5;241m.\u001b[39mshape))\n\u001b[1;32m    471\u001b[0m target \u001b[38;5;241m=\u001b[39m \u001b[38;5;28mrange\u001b[39m(dim(diagram\u001b[38;5;241m.\u001b[39mdom) \u001b[38;5;241m+\u001b[39m left,\n\u001b[1;32m    472\u001b[0m                dim(diagram\u001b[38;5;241m.\u001b[39mdom) \u001b[38;5;241m+\u001b[39m left \u001b[38;5;241m+\u001b[39m dim(box\u001b[38;5;241m.\u001b[39mcod))\n",
      "File \u001b[0;32m~/.qbraid/environments/womanium_go14xk/pyenv/lib/python3.9/site-packages/discopy/tensor.py:445\u001b[0m, in \u001b[0;36mFunctor.__call__\u001b[0;34m(self, diagram)\u001b[0m\n\u001b[1;32m    442\u001b[0m     \u001b[38;5;28;01mif\u001b[39;00m diagram\u001b[38;5;241m.\u001b[39mis_dagger:\n\u001b[1;32m    443\u001b[0m         \u001b[38;5;28;01mreturn\u001b[39;00m \u001b[38;5;28mself\u001b[39m(diagram\u001b[38;5;241m.\u001b[39mdagger())\u001b[38;5;241m.\u001b[39mdagger()\n\u001b[1;32m    444\u001b[0m     \u001b[38;5;28;01mreturn\u001b[39;00m Tensor(\u001b[38;5;28mself\u001b[39m(diagram\u001b[38;5;241m.\u001b[39mdom), \u001b[38;5;28mself\u001b[39m(diagram\u001b[38;5;241m.\u001b[39mcod),\n\u001b[0;32m--> 445\u001b[0m                   \u001b[38;5;28;43mself\u001b[39;49m\u001b[38;5;241;43m.\u001b[39;49m\u001b[43mar\u001b[49m\u001b[43m[\u001b[49m\u001b[43mdiagram\u001b[49m\u001b[43m]\u001b[49m)\n\u001b[1;32m    446\u001b[0m \u001b[38;5;28;01mif\u001b[39;00m \u001b[38;5;129;01mnot\u001b[39;00m \u001b[38;5;28misinstance\u001b[39m(diagram, monoidal\u001b[38;5;241m.\u001b[39mDiagram):\n\u001b[1;32m    447\u001b[0m     \u001b[38;5;28;01mraise\u001b[39;00m \u001b[38;5;167;01mTypeError\u001b[39;00m(messages\u001b[38;5;241m.\u001b[39mtype_err(monoidal\u001b[38;5;241m.\u001b[39mDiagram, diagram))\n",
      "File \u001b[0;32m~/.qbraid/environments/womanium_go14xk/pyenv/lib/python3.9/site-packages/discopy/cat.py:961\u001b[0m, in \u001b[0;36mQuiver.__getitem__\u001b[0;34m(self, box)\u001b[0m\n\u001b[1;32m    960\u001b[0m \u001b[38;5;28;01mdef\u001b[39;00m \u001b[38;5;21m__getitem__\u001b[39m(\u001b[38;5;28mself\u001b[39m, box):\n\u001b[0;32m--> 961\u001b[0m     \u001b[38;5;28;01mreturn\u001b[39;00m \u001b[38;5;28;43mself\u001b[39;49m\u001b[38;5;241;43m.\u001b[39;49m\u001b[43m_func\u001b[49m\u001b[43m(\u001b[49m\u001b[43mbox\u001b[49m\u001b[43m)\u001b[49m\n",
      "File \u001b[0;32m~/.qbraid/environments/womanium_go14xk/pyenv/lib/python3.9/site-packages/discopy/quantum/circuit.py:284\u001b[0m, in \u001b[0;36mCircuit.eval.<locals>.<lambda>\u001b[0;34m(f)\u001b[0m\n\u001b[1;32m    280\u001b[0m \u001b[38;5;28;01mif\u001b[39;00m others:\n\u001b[1;32m    281\u001b[0m     \u001b[38;5;28;01mreturn\u001b[39;00m [circuit\u001b[38;5;241m.\u001b[39meval(mixed\u001b[38;5;241m=\u001b[39mmixed, \u001b[38;5;241m*\u001b[39m\u001b[38;5;241m*\u001b[39mparams)\n\u001b[1;32m    282\u001b[0m             \u001b[38;5;28;01mfor\u001b[39;00m circuit \u001b[38;5;129;01min\u001b[39;00m (\u001b[38;5;28mself\u001b[39m, ) \u001b[38;5;241m+\u001b[39m others]\n\u001b[1;32m    283\u001b[0m functor \u001b[38;5;241m=\u001b[39m cqmap\u001b[38;5;241m.\u001b[39mFunctor() \u001b[38;5;28;01mif\u001b[39;00m mixed \u001b[38;5;129;01mor\u001b[39;00m \u001b[38;5;28mself\u001b[39m\u001b[38;5;241m.\u001b[39mis_mixed\\\n\u001b[0;32m--> 284\u001b[0m     \u001b[38;5;28;01melse\u001b[39;00m tensor\u001b[38;5;241m.\u001b[39mFunctor(\u001b[38;5;28;01mlambda\u001b[39;00m x: x[\u001b[38;5;241m0\u001b[39m]\u001b[38;5;241m.\u001b[39mdim, \u001b[38;5;28;01mlambda\u001b[39;00m f: \u001b[43mf\u001b[49m\u001b[38;5;241;43m.\u001b[39;49m\u001b[43marray\u001b[49m)\n\u001b[1;32m    285\u001b[0m box \u001b[38;5;241m=\u001b[39m functor(\u001b[38;5;28mself\u001b[39m)\n\u001b[1;32m    286\u001b[0m \u001b[38;5;28;01mreturn\u001b[39;00m \u001b[38;5;28mtype\u001b[39m(box)(box\u001b[38;5;241m.\u001b[39mdom, box\u001b[38;5;241m.\u001b[39mcod, box\u001b[38;5;241m.\u001b[39marray \u001b[38;5;241m+\u001b[39m \u001b[38;5;241m0\u001b[39mj)\n",
      "File \u001b[0;32m~/.qbraid/environments/womanium_go14xk/pyenv/lib/python3.9/site-packages/discopy/quantum/gates.py:526\u001b[0m, in \u001b[0;36mRz.array\u001b[0;34m(self)\u001b[0m\n\u001b[1;32m    524\u001b[0m e2 \u001b[38;5;241m=\u001b[39m \u001b[38;5;28mself\u001b[39m\u001b[38;5;241m.\u001b[39mmodules\u001b[38;5;241m.\u001b[39mexp(\u001b[38;5;241m1\u001b[39mj \u001b[38;5;241m*\u001b[39m half_theta)\n\u001b[1;32m    525\u001b[0m z \u001b[38;5;241m=\u001b[39m Tensor\u001b[38;5;241m.\u001b[39mnp\u001b[38;5;241m.\u001b[39marray(\u001b[38;5;241m0\u001b[39m)\n\u001b[0;32m--> 526\u001b[0m \u001b[38;5;28;01mreturn\u001b[39;00m \u001b[43mTensor\u001b[49m\u001b[38;5;241;43m.\u001b[39;49m\u001b[43mnp\u001b[49m\u001b[38;5;241;43m.\u001b[39;49m\u001b[43mstack\u001b[49m\u001b[43m(\u001b[49m\u001b[43m(\u001b[49m\u001b[43me1\u001b[49m\u001b[43m,\u001b[49m\u001b[43m \u001b[49m\u001b[43mz\u001b[49m\u001b[43m,\u001b[49m\u001b[43m \u001b[49m\u001b[43mz\u001b[49m\u001b[43m,\u001b[49m\u001b[43m \u001b[49m\u001b[43me2\u001b[49m\u001b[43m)\u001b[49m\u001b[43m)\u001b[49m\u001b[38;5;241m.\u001b[39mreshape(\u001b[38;5;241m2\u001b[39m, \u001b[38;5;241m2\u001b[39m)\n",
      "File \u001b[0;32m<__array_function__ internals>:180\u001b[0m, in \u001b[0;36mstack\u001b[0;34m(*args, **kwargs)\u001b[0m\n",
      "File \u001b[0;32m~/.qbraid/environments/womanium_go14xk/pyenv/lib/python3.9/site-packages/numpy/core/shape_base.py:426\u001b[0m, in \u001b[0;36mstack\u001b[0;34m(arrays, axis, out)\u001b[0m\n\u001b[1;32m    424\u001b[0m shapes \u001b[38;5;241m=\u001b[39m {arr\u001b[38;5;241m.\u001b[39mshape \u001b[38;5;28;01mfor\u001b[39;00m arr \u001b[38;5;129;01min\u001b[39;00m arrays}\n\u001b[1;32m    425\u001b[0m \u001b[38;5;28;01mif\u001b[39;00m \u001b[38;5;28mlen\u001b[39m(shapes) \u001b[38;5;241m!=\u001b[39m \u001b[38;5;241m1\u001b[39m:\n\u001b[0;32m--> 426\u001b[0m     \u001b[38;5;28;01mraise\u001b[39;00m \u001b[38;5;167;01mValueError\u001b[39;00m(\u001b[38;5;124m'\u001b[39m\u001b[38;5;124mall input arrays must have the same shape\u001b[39m\u001b[38;5;124m'\u001b[39m)\n\u001b[1;32m    428\u001b[0m result_ndim \u001b[38;5;241m=\u001b[39m arrays[\u001b[38;5;241m0\u001b[39m]\u001b[38;5;241m.\u001b[39mndim \u001b[38;5;241m+\u001b[39m \u001b[38;5;241m1\u001b[39m\n\u001b[1;32m    429\u001b[0m axis \u001b[38;5;241m=\u001b[39m normalize_axis_index(axis, result_ndim)\n",
      "\u001b[0;31mValueError\u001b[0m: all input arrays must have the same shape"
     ]
    }
   ],
   "source": [
    "nc.eval().array"
   ]
  },
  {
   "cell_type": "code",
   "execution_count": 25,
   "id": "115944ac-6636-4565-ae45-51925f617832",
   "metadata": {},
   "outputs": [
    {
     "data": {
      "text/plain": [
       "([array([0.84867097]),\n",
       "  array([0.81198731]),\n",
       "  array([0.16519835]),\n",
       "  array([0.2883386]),\n",
       "  array([0.12951432]),\n",
       "  array([0.07455635]),\n",
       "  array([0.11692493]),\n",
       "  array([0.03434003]),\n",
       "  array([0.51406258]),\n",
       "  array([0.18152767]),\n",
       "  array([0.83045513]),\n",
       "  array([0.92552413]),\n",
       "  array([0.29795542]),\n",
       "  array([0.13450337]),\n",
       "  array([0.99975376]),\n",
       "  array([0.24354932]),\n",
       "  array([0.45588225]),\n",
       "  array([0.22793714]),\n",
       "  array([0.12616624]),\n",
       "  array([0.69556295]),\n",
       "  array([0.17865263]),\n",
       "  array([0.30614354]),\n",
       "  array([0.78544947]),\n",
       "  array([0.02150372]),\n",
       "  array([0.01256986])],\n",
       " [code__n_0,\n",
       "  complicated__n@n.l_0,\n",
       "  complicated__n@n.l_1,\n",
       "  complicated__n@n.l_2,\n",
       "  cook__n_0,\n",
       "  creates__n.r@s@n.l_0,\n",
       "  creates__n.r@s@n.l_1,\n",
       "  creates__n.r@s@n.l_2,\n",
       "  creates__n.r@s@n.l_3,\n",
       "  creates__n.r@s@n.l_4,\n",
       "  devoted__n@n.l_0,\n",
       "  devoted__n@n.l_1,\n",
       "  devoted__n@n.l_2,\n",
       "  dish__n_0,\n",
       "  hacker__n_0,\n",
       "  meal__n_0,\n",
       "  programmer__n_0,\n",
       "  skilful__n@n.l_0,\n",
       "  skilful__n@n.l_1,\n",
       "  skilful__n@n.l_2,\n",
       "  writes__n.r@s@n.l_0,\n",
       "  writes__n.r@s@n.l_1,\n",
       "  writes__n.r@s@n.l_2,\n",
       "  writes__n.r@s@n.l_3,\n",
       "  writes__n.r@s@n.l_4])"
      ]
     },
     "execution_count": 25,
     "metadata": {},
     "output_type": "execute_result"
    }
   ],
   "source": [
    "from sympy import default_sort_key\n",
    "\n",
    "vocab = sorted(\n",
    "   { sym for circ in discopy_circuit for sym in circ.free_symbols},\n",
    "    key=default_sort_key\n",
    ")\n",
    "tensors = [np.random.rand(w.size) for w in vocab]\n",
    "\n",
    "tensors, vocab"
   ]
  },
  {
   "cell_type": "code",
   "execution_count": 9,
   "id": "e559a336-fbcc-4343-8476-2d01e88392c7",
   "metadata": {},
   "outputs": [
    {
     "data": {
      "text/html": [
       "\n",
       "\n",
       "\n",
       "\n",
       "\n",
       "\n",
       "<iframe srcdoc=\"\n",
       "&lt;!DOCTYPE html&gt;\n",
       "&lt;html lang=&#34;en&#34;&gt;\n",
       "&lt;head&gt;\n",
       "    &lt;meta charset=&#34;UTF-8&#34;&gt;\n",
       "\n",
       "    &lt;script type=&#34;application/javascript&#34; src=&#34;https://cdn.jsdelivr.net/npm/vue@3&#34;&gt;&lt;/script&gt;\n",
       "    &lt;script type=&#34;application/javascript&#34; src=&#34;https://unpkg.com/pytket-circuit-renderer@0.2/dist/pytket-circuit-renderer.umd.js&#34;&gt;&lt;/script&gt;\n",
       "    &lt;link rel=&#34;stylesheet&#34; href=&#34;https://unpkg.com/pytket-circuit-renderer@0.2/dist/pytket-circuit-renderer.css&#34;&gt;\n",
       "&lt;/head&gt;\n",
       "&lt;body&gt;\n",
       "    &lt;div id=&#34;circuit-display-vue-container-b0746add-9b34-473a-b3a6-d7393a6e1e02&#34; class=&#34;pytket-circuit-display-container&#34;&gt;\n",
       "        &lt;div style=&#34;display: none&#34;&gt;\n",
       "            &lt;div id=&#34;circuit-json-to-display&#34;&gt;{&#34;bits&#34;: [[&#34;c&#34;, [0]], [&#34;c&#34;, [1]], [&#34;c&#34;, [2]], [&#34;c&#34;, [3]], [&#34;c&#34;, [4]], [&#34;c&#34;, [5]], [&#34;c&#34;, [6]], [&#34;c&#34;, [7]], [&#34;c&#34;, [8]], [&#34;c&#34;, [9]], [&#34;c&#34;, [10]], [&#34;c&#34;, [11]], [&#34;c&#34;, [12]], [&#34;c&#34;, [13]]], &#34;commands&#34;: [{&#34;args&#34;: [[&#34;q&#34;, [0]]], &#34;op&#34;: {&#34;params&#34;: [&#34;2*food__n_0&#34;], &#34;type&#34;: &#34;Rx&#34;}}, {&#34;args&#34;: [[&#34;q&#34;, [1]]], &#34;op&#34;: {&#34;type&#34;: &#34;H&#34;}}, {&#34;args&#34;: [[&#34;q&#34;, [2]]], &#34;op&#34;: {&#34;type&#34;: &#34;H&#34;}}, {&#34;args&#34;: [[&#34;q&#34;, [3]]], &#34;op&#34;: {&#34;type&#34;: &#34;H&#34;}}, {&#34;args&#34;: [[&#34;q&#34;, [4]]], &#34;op&#34;: {&#34;type&#34;: &#34;H&#34;}}, {&#34;args&#34;: [[&#34;q&#34;, [5]]], &#34;op&#34;: {&#34;type&#34;: &#34;H&#34;}}, {&#34;args&#34;: [[&#34;q&#34;, [6]]], &#34;op&#34;: {&#34;type&#34;: &#34;H&#34;}}, {&#34;args&#34;: [[&#34;q&#34;, [7]]], &#34;op&#34;: {&#34;type&#34;: &#34;H&#34;}}, {&#34;args&#34;: [[&#34;q&#34;, [8]]], &#34;op&#34;: {&#34;type&#34;: &#34;H&#34;}}, {&#34;args&#34;: [[&#34;q&#34;, [9]]], &#34;op&#34;: {&#34;type&#34;: &#34;H&#34;}}, {&#34;args&#34;: [[&#34;q&#34;, [10]]], &#34;op&#34;: {&#34;type&#34;: &#34;H&#34;}}, {&#34;args&#34;: [[&#34;q&#34;, [11]]], &#34;op&#34;: {&#34;type&#34;: &#34;H&#34;}}, {&#34;args&#34;: [[&#34;q&#34;, [12]]], &#34;op&#34;: {&#34;type&#34;: &#34;H&#34;}}, {&#34;args&#34;: [[&#34;q&#34;, [13]]], &#34;op&#34;: {&#34;type&#34;: &#34;H&#34;}}, {&#34;args&#34;: [[&#34;q&#34;, [14]]], &#34;op&#34;: {&#34;params&#34;: [&#34;2*chef__n_0&#34;], &#34;type&#34;: &#34;Rx&#34;}}, {&#34;args&#34;: [[&#34;q&#34;, [0]]], &#34;op&#34;: {&#34;params&#34;: [&#34;2*food__n_1&#34;], &#34;type&#34;: &#34;Rz&#34;}}, {&#34;args&#34;: [[&#34;q&#34;, [1]], [&#34;q&#34;, [2]]], &#34;op&#34;: {&#34;params&#34;: [&#34;2*is__n.r@s@s.l@n_0&#34;], &#34;type&#34;: &#34;CRz&#34;}}, {&#34;args&#34;: [[&#34;q&#34;, [5]], [&#34;q&#34;, [6]]], &#34;op&#34;: {&#34;params&#34;: [&#34;2*prepared__n.r@s_0&#34;], &#34;type&#34;: &#34;CRz&#34;}}, {&#34;args&#34;: [[&#34;q&#34;, [7]], [&#34;q&#34;, [8]]], &#34;op&#34;: {&#34;params&#34;: [&#34;2*by__s.r@n.r.r@n.r@s@n.l_0&#34;], &#34;type&#34;: &#34;CRz&#34;}}, {&#34;args&#34;: [[&#34;q&#34;, [12]], [&#34;q&#34;, [13]]], &#34;op&#34;: {&#34;params&#34;: [&#34;2*a__n@n.l_0&#34;], &#34;type&#34;: &#34;CRz&#34;}}, {&#34;args&#34;: [[&#34;q&#34;, [14]]], &#34;op&#34;: {&#34;params&#34;: [&#34;2*chef__n_1&#34;], &#34;type&#34;: &#34;Rz&#34;}}, {&#34;args&#34;: [[&#34;q&#34;, [0]]], &#34;op&#34;: {&#34;params&#34;: [&#34;2*food__n_2&#34;], &#34;type&#34;: &#34;Rx&#34;}}, {&#34;args&#34;: [[&#34;q&#34;, [1]]], &#34;op&#34;: {&#34;type&#34;: &#34;H&#34;}}, {&#34;args&#34;: [[&#34;q&#34;, [2]], [&#34;q&#34;, [3]]], &#34;op&#34;: {&#34;params&#34;: [&#34;2*is__n.r@s@s.l@n_1&#34;], &#34;type&#34;: &#34;CRz&#34;}}, {&#34;args&#34;: [[&#34;q&#34;, [5]]], &#34;op&#34;: {&#34;type&#34;: &#34;H&#34;}}, {&#34;args&#34;: [[&#34;q&#34;, [6]]], &#34;op&#34;: {&#34;type&#34;: &#34;H&#34;}}, {&#34;args&#34;: [[&#34;q&#34;, [7]]], &#34;op&#34;: {&#34;type&#34;: &#34;H&#34;}}, {&#34;args&#34;: [[&#34;q&#34;, [8]], [&#34;q&#34;, [9]]], &#34;op&#34;: {&#34;params&#34;: [&#34;2*by__s.r@n.r.r@n.r@s@n.l_1&#34;], &#34;type&#34;: &#34;CRz&#34;}}, {&#34;args&#34;: [[&#34;q&#34;, [12]]], &#34;op&#34;: {&#34;type&#34;: &#34;H&#34;}}, {&#34;args&#34;: [[&#34;q&#34;, [13]]], &#34;op&#34;: {&#34;type&#34;: &#34;H&#34;}}, {&#34;args&#34;: [[&#34;q&#34;, [14]]], &#34;op&#34;: {&#34;params&#34;: [&#34;2*chef__n_2&#34;], &#34;type&#34;: &#34;Rx&#34;}}, {&#34;args&#34;: [[&#34;q&#34;, [2]]], &#34;op&#34;: {&#34;type&#34;: &#34;H&#34;}}, {&#34;args&#34;: [[&#34;q&#34;, [3]], [&#34;q&#34;, [4]]], &#34;op&#34;: {&#34;params&#34;: [&#34;2*is__n.r@s@s.l@n_2&#34;], &#34;type&#34;: &#34;CRz&#34;}}, {&#34;args&#34;: [[&#34;q&#34;, [5]], [&#34;q&#34;, [6]]], &#34;op&#34;: {&#34;params&#34;: [&#34;2*prepared__n.r@s_1&#34;], &#34;type&#34;: &#34;CRz&#34;}}, {&#34;args&#34;: [[&#34;q&#34;, [8]]], &#34;op&#34;: {&#34;type&#34;: &#34;H&#34;}}, {&#34;args&#34;: [[&#34;q&#34;, [9]], [&#34;q&#34;, [10]]], &#34;op&#34;: {&#34;params&#34;: [&#34;2*by__s.r@n.r.r@n.r@s@n.l_2&#34;], &#34;type&#34;: &#34;CRz&#34;}}, {&#34;args&#34;: [[&#34;q&#34;, [12]], [&#34;q&#34;, [13]]], &#34;op&#34;: {&#34;params&#34;: [&#34;2*a__n@n.l_1&#34;], &#34;type&#34;: &#34;CRz&#34;}}, {&#34;args&#34;: [[&#34;q&#34;, [1]], [&#34;q&#34;, [2]]], &#34;op&#34;: {&#34;params&#34;: [&#34;2*is__n.r@s@s.l@n_3&#34;], &#34;type&#34;: &#34;CRz&#34;}}, {&#34;args&#34;: [[&#34;q&#34;, [3]]], &#34;op&#34;: {&#34;type&#34;: &#34;H&#34;}}, {&#34;args&#34;: [[&#34;q&#34;, [4]]], &#34;op&#34;: {&#34;type&#34;: &#34;H&#34;}}, {&#34;args&#34;: [[&#34;q&#34;, [7]], [&#34;q&#34;, [8]]], &#34;op&#34;: {&#34;params&#34;: [&#34;2*by__s.r@n.r.r@n.r@s@n.l_4&#34;], &#34;type&#34;: &#34;CRz&#34;}}, {&#34;args&#34;: [[&#34;q&#34;, [9]]], &#34;op&#34;: {&#34;type&#34;: &#34;H&#34;}}, {&#34;args&#34;: [[&#34;q&#34;, [10]], [&#34;q&#34;, [11]]], &#34;op&#34;: {&#34;params&#34;: [&#34;2*by__s.r@n.r.r@n.r@s@n.l_3&#34;], &#34;type&#34;: &#34;CRz&#34;}}, {&#34;args&#34;: [[&#34;q&#34;, [13]], [&#34;q&#34;, [14]]], &#34;op&#34;: {&#34;type&#34;: &#34;CX&#34;}}, {&#34;args&#34;: [[&#34;q&#34;, [14]], [&#34;c&#34;, [1]]], &#34;op&#34;: {&#34;type&#34;: &#34;Measure&#34;}}, {&#34;args&#34;: [[&#34;q&#34;, [0]], [&#34;q&#34;, [1]]], &#34;op&#34;: {&#34;type&#34;: &#34;CX&#34;}}, {&#34;args&#34;: [[&#34;q&#34;, [2]], [&#34;q&#34;, [3]]], &#34;op&#34;: {&#34;params&#34;: [&#34;2*is__n.r@s@s.l@n_4&#34;], &#34;type&#34;: &#34;CRz&#34;}}, {&#34;args&#34;: [[&#34;q&#34;, [6]], [&#34;q&#34;, [7]]], &#34;op&#34;: {&#34;type&#34;: &#34;CX&#34;}}, {&#34;args&#34;: [[&#34;q&#34;, [8]], [&#34;q&#34;, [9]]], &#34;op&#34;: {&#34;params&#34;: [&#34;2*by__s.r@n.r.r@n.r@s@n.l_5&#34;], &#34;type&#34;: &#34;CRz&#34;}}, {&#34;args&#34;: [[&#34;q&#34;, [10]]], &#34;op&#34;: {&#34;type&#34;: &#34;H&#34;}}, {&#34;args&#34;: [[&#34;q&#34;, [11]]], &#34;op&#34;: {&#34;type&#34;: &#34;H&#34;}}, {&#34;args&#34;: [[&#34;q&#34;, [13]]], &#34;op&#34;: {&#34;type&#34;: &#34;H&#34;}}, {&#34;args&#34;: [[&#34;q&#34;, [13]], [&#34;c&#34;, [0]]], &#34;op&#34;: {&#34;type&#34;: &#34;Measure&#34;}}, {&#34;args&#34;: [[&#34;q&#34;, [7]], [&#34;c&#34;, [5]]], &#34;op&#34;: {&#34;type&#34;: &#34;Measure&#34;}}, {&#34;args&#34;: [[&#34;q&#34;, [1]], [&#34;c&#34;, [13]]], &#34;op&#34;: {&#34;type&#34;: &#34;Measure&#34;}}, {&#34;args&#34;: [[&#34;q&#34;, [0]]], &#34;op&#34;: {&#34;type&#34;: &#34;H&#34;}}, {&#34;args&#34;: [[&#34;q&#34;, [3]], [&#34;q&#34;, [4]]], &#34;op&#34;: {&#34;params&#34;: [&#34;2*is__n.r@s@s.l@n_5&#34;], &#34;type&#34;: &#34;CRz&#34;}}, {&#34;args&#34;: [[&#34;q&#34;, [5]], [&#34;q&#34;, [8]]], &#34;op&#34;: {&#34;type&#34;: &#34;CX&#34;}}, {&#34;args&#34;: [[&#34;q&#34;, [6]]], &#34;op&#34;: {&#34;type&#34;: &#34;H&#34;}}, {&#34;args&#34;: [[&#34;q&#34;, [9]], [&#34;q&#34;, [10]]], &#34;op&#34;: {&#34;params&#34;: [&#34;2*by__s.r@n.r.r@n.r@s@n.l_6&#34;], &#34;type&#34;: &#34;CRz&#34;}}, {&#34;args&#34;: [[&#34;q&#34;, [6]], [&#34;c&#34;, [4]]], &#34;op&#34;: {&#34;type&#34;: &#34;Measure&#34;}}, {&#34;args&#34;: [[&#34;q&#34;, [8]], [&#34;c&#34;, [7]]], &#34;op&#34;: {&#34;type&#34;: &#34;Measure&#34;}}, {&#34;args&#34;: [[&#34;q&#34;, [0]], [&#34;c&#34;, [12]]], &#34;op&#34;: {&#34;type&#34;: &#34;Measure&#34;}}, {&#34;args&#34;: [[&#34;q&#34;, [4]], [&#34;q&#34;, [9]]], &#34;op&#34;: {&#34;type&#34;: &#34;CX&#34;}}, {&#34;args&#34;: [[&#34;q&#34;, [5]]], &#34;op&#34;: {&#34;type&#34;: &#34;H&#34;}}, {&#34;args&#34;: [[&#34;q&#34;, [10]], [&#34;q&#34;, [11]]], &#34;op&#34;: {&#34;params&#34;: [&#34;2*by__s.r@n.r.r@n.r@s@n.l_7&#34;], &#34;type&#34;: &#34;CRz&#34;}}, {&#34;args&#34;: [[&#34;q&#34;, [5]], [&#34;c&#34;, [6]]], &#34;op&#34;: {&#34;type&#34;: &#34;Measure&#34;}}, {&#34;args&#34;: [[&#34;q&#34;, [9]], [&#34;c&#34;, [9]]], &#34;op&#34;: {&#34;type&#34;: &#34;Measure&#34;}}, {&#34;args&#34;: [[&#34;q&#34;, [3]], [&#34;q&#34;, [10]]], &#34;op&#34;: {&#34;type&#34;: &#34;CX&#34;}}, {&#34;args&#34;: [[&#34;q&#34;, [4]]], &#34;op&#34;: {&#34;type&#34;: &#34;H&#34;}}, {&#34;args&#34;: [[&#34;q&#34;, [11]], [&#34;q&#34;, [12]]], &#34;op&#34;: {&#34;type&#34;: &#34;CX&#34;}}, {&#34;args&#34;: [[&#34;q&#34;, [12]], [&#34;c&#34;, [3]]], &#34;op&#34;: {&#34;type&#34;: &#34;Measure&#34;}}, {&#34;args&#34;: [[&#34;q&#34;, [4]], [&#34;c&#34;, [8]]], &#34;op&#34;: {&#34;type&#34;: &#34;Measure&#34;}}, {&#34;args&#34;: [[&#34;q&#34;, [10]], [&#34;c&#34;, [11]]], &#34;op&#34;: {&#34;type&#34;: &#34;Measure&#34;}}, {&#34;args&#34;: [[&#34;q&#34;, [3]]], &#34;op&#34;: {&#34;type&#34;: &#34;H&#34;}}, {&#34;args&#34;: [[&#34;q&#34;, [11]]], &#34;op&#34;: {&#34;type&#34;: &#34;H&#34;}}, {&#34;args&#34;: [[&#34;q&#34;, [11]], [&#34;c&#34;, [2]]], &#34;op&#34;: {&#34;type&#34;: &#34;Measure&#34;}}, {&#34;args&#34;: [[&#34;q&#34;, [3]], [&#34;c&#34;, [10]]], &#34;op&#34;: {&#34;type&#34;: &#34;Measure&#34;}}], &#34;implicit_permutation&#34;: [[[&#34;q&#34;, [0]], [&#34;q&#34;, [0]]], [[&#34;q&#34;, [1]], [&#34;q&#34;, [1]]], [[&#34;q&#34;, [2]], [&#34;q&#34;, [2]]], [[&#34;q&#34;, [3]], [&#34;q&#34;, [3]]], [[&#34;q&#34;, [4]], [&#34;q&#34;, [4]]], [[&#34;q&#34;, [5]], [&#34;q&#34;, [5]]], [[&#34;q&#34;, [6]], [&#34;q&#34;, [6]]], [[&#34;q&#34;, [7]], [&#34;q&#34;, [7]]], [[&#34;q&#34;, [8]], [&#34;q&#34;, [8]]], [[&#34;q&#34;, [9]], [&#34;q&#34;, [9]]], [[&#34;q&#34;, [10]], [&#34;q&#34;, [10]]], [[&#34;q&#34;, [11]], [&#34;q&#34;, [11]]], [[&#34;q&#34;, [12]], [&#34;q&#34;, [12]]], [[&#34;q&#34;, [13]], [&#34;q&#34;, [13]]], [[&#34;q&#34;, [14]], [&#34;q&#34;, [14]]]], &#34;phase&#34;: &#34;0.0&#34;, &#34;qubits&#34;: [[&#34;q&#34;, [0]], [&#34;q&#34;, [1]], [&#34;q&#34;, [2]], [&#34;q&#34;, [3]], [&#34;q&#34;, [4]], [&#34;q&#34;, [5]], [&#34;q&#34;, [6]], [&#34;q&#34;, [7]], [&#34;q&#34;, [8]], [&#34;q&#34;, [9]], [&#34;q&#34;, [10]], [&#34;q&#34;, [11]], [&#34;q&#34;, [12]], [&#34;q&#34;, [13]], [&#34;q&#34;, [14]]]}&lt;/div&gt;\n",
       "        &lt;/div&gt;\n",
       "        &lt;circuit-display-container :circuit-element-str=&#34;&#39;#circuit-json-to-display&#39;&#34;&gt;&lt;/circuit-display-container&gt;\n",
       "    &lt;/div&gt;\n",
       "\n",
       "    &lt;script type=&#34;application/javascript&#34;&gt;\n",
       "        const { createApp } = Vue;\n",
       "        const circuitDisplayContainer = window[&#34;pytket-circuit-renderer&#34;].default;\n",
       "\n",
       "        // Init variables to be shared between circuit display instances\n",
       "        if (typeof window.pytketCircuitDisplays === &#34;undefined&#34;) {\n",
       "            window.pytketCircuitDisplays = {};\n",
       "        }\n",
       "\n",
       "        const uid = &#34;b0746add-9b34-473a-b3a6-d7393a6e1e02&#34;;\n",
       "\n",
       "        // Create the root Vue component\n",
       "        window.pytketCircuitDisplays[uid] = createApp({\n",
       "            delimiters: [&#39;[[#&#39;, &#39;#]]&#39;],\n",
       "            components: { circuitDisplayContainer },\n",
       "        }).mount(&#34;#circuit-display-vue-container-&#34;+uid);\n",
       "    &lt;/script&gt;\n",
       "&lt;/body&gt;\n",
       "&lt;/html&gt;\n",
       "\"\n",
       "        width=\"100%\" height=\"200px\"\n",
       "        style=\"border: none; outline: none; resize: vertical; overflow: auto\"></iframe>\n",
       "\n"
      ],
      "text/plain": [
       "<IPython.core.display.HTML object>"
      ]
     },
     "metadata": {},
     "output_type": "display_data"
    }
   ],
   "source": [
    "tket_circuit = discopy_circuit.to_tk()\n",
    "\n",
    "render_circuit_jupyter(tket_circuit)"
   ]
  },
  {
   "cell_type": "code",
   "execution_count": 11,
   "id": "8894e0a9-4903-4b90-bf28-10abe3c1cbc3",
   "metadata": {},
   "outputs": [],
   "source": [
    "qiskit_circuit = tk_to_qiskit(tket_circuit)"
   ]
  },
  {
   "cell_type": "code",
   "execution_count": null,
   "id": "efdfe4ce-2ac3-4fc3-b4e8-e87dfb0680d3",
   "metadata": {},
   "outputs": [],
   "source": []
  }
 ],
 "metadata": {
  "kernelspec": {
   "display_name": "Python 3 [Womanium]",
   "language": "python",
   "name": "python3_womanium_go14xk"
  },
  "language_info": {
   "codemirror_mode": {
    "name": "ipython",
    "version": 3
   },
   "file_extension": ".py",
   "mimetype": "text/x-python",
   "name": "python",
   "nbconvert_exporter": "python",
   "pygments_lexer": "ipython3",
   "version": "3.9.10"
  }
 },
 "nbformat": 4,
 "nbformat_minor": 5
}
