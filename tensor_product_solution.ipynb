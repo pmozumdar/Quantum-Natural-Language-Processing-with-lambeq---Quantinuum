{
 "cells": [
  {
   "cell_type": "code",
   "execution_count": 1,
   "id": "ef72cec1-29ac-4d26-9f93-c0181f835432",
   "metadata": {},
   "outputs": [
    {
     "name": "stderr",
     "output_type": "stream",
     "text": [
      "/home/jovyan/.qbraid/environments/womanium_go14xk/pyenv/lib/python3.9/site-packages/lambeq/text2diagram/ccg_parser.py:24: TqdmExperimentalWarning: Using `tqdm.autonotebook.tqdm` in notebook mode. Use `tqdm.tqdm` instead to force console mode (e.g. in jupyter console)\n",
      "  from tqdm.autonotebook import tqdm\n"
     ]
    }
   ],
   "source": [
    "from lambeq import BobcatParser, AtomicType, IQPAnsatz\n",
    "from lambeq import Rewriter, remove_cups\n",
    "from lambeq import Dataset, QuantumTrainer, SPSAOptimizer, NumpyModel, TketModel  \n",
    "from lambeq.core.utils import flatten\n",
    "#from discopy import grammar\n",
    "\n",
    "#from pytket.circuit.display import render_circuit_jupyter\n",
    "from pytket.extensions.qiskit import tk_to_qiskit, AerBackend\n",
    "\n",
    "import os\n",
    "import warnings\n",
    "import numpy as np\n",
    "import matplotlib.pyplot as plt\n",
    "\n",
    "warnings.filterwarnings('ignore')\n",
    "os.environ['TOKENIZERS_PARALLELISM'] = 'false'"
   ]
  },
  {
   "cell_type": "code",
   "execution_count": 26,
   "id": "7ea72375-1160-458a-b1f0-364308986117",
   "metadata": {},
   "outputs": [],
   "source": [
    "BATCH_SIZE = 30  ## batch size of training data if don't want to use full training dataset at once\n",
    "EPOCHS = 400    ## number of epochs for training the model\n",
    "SEED = 2"
   ]
  },
  {
   "cell_type": "markdown",
   "id": "074f1ed3-bd13-4594-8c81-508ac57edcb9",
   "metadata": {},
   "source": [
    "## Read in data"
   ]
  },
  {
   "cell_type": "code",
   "execution_count": 3,
   "id": "18ba430c-a288-4326-a88d-7b96c077770b",
   "metadata": {},
   "outputs": [],
   "source": [
    "def read_data(filename):\n",
    "    labels, sentence_pairs = [], []\n",
    "    with open(filename) as f:\n",
    "        for line in f:\n",
    "            l = line.strip().split(',')\n",
    "            labels.append([int(l[2]), 1-int(l[2])]) ## not sure why two labels are required\n",
    "            sentence_pairs.append([l[0]]+ [l[1]])\n",
    "            \n",
    "    return labels, sentence_pairs\n",
    "\n",
    "labels, sentence_pairs = read_data('datasets/MC1.txt')\n",
    "train_labels1, train_data1 = labels[:80], sentence_pairs[:80]  # for now first 60 data set is used as training data\n",
    "#dev_labels, dev_data = labels[60:80], sentence_pairs[60:80]  # next 20 data set is validation data\n",
    "test_labels1, test_data1 = labels[80:], sentence_pairs[80:]    # rest is test data"
   ]
  },
  {
   "cell_type": "code",
   "execution_count": 4,
   "id": "9bc2ea32-1aea-4d51-b641-13d1a4c88036",
   "metadata": {},
   "outputs": [
    {
     "data": {
      "text/plain": [
       "([['cook creates complicated dish',\n",
       "   ' experienced chef prepares complicated dish'],\n",
       "  ['skilful programmer creates code', ' devoted hacker writes code'],\n",
       "  ['skilful cook creates meal', ' devoted hacker creates complicated code'],\n",
       "  ['hacker writes code', ' skilful hacker creates code'],\n",
       "  ['devoted hacker writes code', ' hacker writes complicated code']],\n",
       " [[1, 0], [1, 0], [0, 1], [1, 0], [1, 0]],\n",
       " [['devoted hacker creates complicated code',\n",
       "   ' skilful cook prepares complicated meal'],\n",
       "  ['chef creates complicated meal', ' cook prepares tasty dish'],\n",
       "  ['chef prepares tasty meal', ' chef prepares meal'],\n",
       "  ['programmer writes code', ' cook prepares complicated meal'],\n",
       "  ['hacker writes advanced code', ' hacker creates code']],\n",
       " [[0, 1], [1, 0], [1, 0], [0, 1], [1, 0]])"
      ]
     },
     "execution_count": 4,
     "metadata": {},
     "output_type": "execute_result"
    }
   ],
   "source": [
    "train_data1[:5], train_labels1[:5], test_data1[:5], test_labels1[:5]"
   ]
  },
  {
   "cell_type": "code",
   "execution_count": 5,
   "id": "85e5f089-9c1b-40c4-9912-2fd320540ae6",
   "metadata": {},
   "outputs": [],
   "source": [
    "## Create a random dataset from the given data by shuffling\n",
    "\n",
    "sentence_pairs1, labels1  = Dataset.shuffle_data(sentence_pairs, labels) ## returns data, target\n",
    "\n",
    "train_labels, train_data = labels1[:80], sentence_pairs1[:80]  # for now first 80 data set is used as training data\n",
    "#dev_labels, dev_data = labels[60:80], sentence_pairs[60:80]  # next 20 data set is validation data\n",
    "test_labels, test_data = labels1[80:], sentence_pairs1[80:]    # rest is test data"
   ]
  },
  {
   "cell_type": "code",
   "execution_count": 6,
   "id": "5e5eaf3f-fe43-4a0e-8c73-905a10b1cc32",
   "metadata": {},
   "outputs": [
    {
     "data": {
      "text/plain": [
       "([['chef creates tasty meal', ' skilful programmer writes advanced code'],\n",
       "  ['devoted programmer creates complicated code', ' cook prepares tasty dish'],\n",
       "  ['hacker creates code', ' programmer creates complicated code'],\n",
       "  ['hacker creates code', ' skilful chef creates meal'],\n",
       "  ['skilful chef creates tasty meal', ' skilful programmer creates code']],\n",
       " [[0, 1], [0, 1], [1, 0], [0, 1], [0, 1]],\n",
       " [['chef creates meal', ' skilful chef prepares tasty dish'],\n",
       "  ['programmer writes code', ' skilful hacker writes advanced code'],\n",
       "  ['devoted hacker writes complicated code', ' skilful chef creates dish'],\n",
       "  ['programmer creates code', ' programmer creates advanced code'],\n",
       "  ['programmer writes code', ' programmer writes code']],\n",
       " [[1, 0], [1, 0], [0, 1], [1, 0], [1, 0]])"
      ]
     },
     "execution_count": 6,
     "metadata": {},
     "output_type": "execute_result"
    }
   ],
   "source": [
    "train_data[:5], train_labels[:5], test_data[:5], test_labels[:5]"
   ]
  },
  {
   "cell_type": "markdown",
   "id": "eaabd5c6-f419-4aa1-bf29-4653b74d3e85",
   "metadata": {},
   "source": [
    "## Create and check diagrams"
   ]
  },
  {
   "cell_type": "code",
   "execution_count": 7,
   "id": "0c5ba0ae-a43d-4be1-b393-645f415b9126",
   "metadata": {},
   "outputs": [],
   "source": [
    "parser = BobcatParser(verbose='suppress')  ## to select particular type of words like nouns use 'root_cats' parameter\n",
    "\n",
    "raw_train_diagrams = [parser.sentences2diagrams(d) for d in train_data] # can send list of list of str to the function\n",
    "#raw_dev_diagrams = [parser.sentences2diagrams(d) for d in dev_data]\n",
    "raw_test_diagrams = [parser.sentences2diagrams(d) for d in test_data]"
   ]
  },
  {
   "cell_type": "code",
   "execution_count": 8,
   "id": "1672f011-bfa1-431f-bb3c-05085a98c06d",
   "metadata": {},
   "outputs": [
    {
     "data": {
      "image/png": "[encoded data removed]",
      "text/plain": [
       "<Figure size 432x288 with 1 Axes>"
      ]
     },
     "metadata": {},
     "output_type": "display_data"
    },
    {
     "data": {
      "image/png": "[encoded data removed]",
      "text/plain": [
       "<Figure size 432x288 with 1 Axes>"
      ]
     },
     "metadata": {},
     "output_type": "display_data"
    },
    {
     "data": {
      "text/plain": [
       "(['experienced chef prepares complicated dish', ' skilful cook creates meal'],\n",
       " None,\n",
       " None)"
      ]
     },
     "execution_count": 8,
     "metadata": {},
     "output_type": "execute_result"
    }
   ],
   "source": [
    "train_data[15], raw_train_diagrams[15][0].draw(), raw_train_diagrams[15][1].draw()"
   ]
  },
  {
   "cell_type": "markdown",
   "id": "2b0f950d-6ede-48df-b029-3e2e9993e82e",
   "metadata": {},
   "source": [
    "## Filter and simply string diagrams"
   ]
  },
  {
   "cell_type": "code",
   "execution_count": 9,
   "id": "80b95095-75f7-46f7-9f21-2cc09039a979",
   "metadata": {},
   "outputs": [
    {
     "name": "stdout",
     "output_type": "stream",
     "text": [
      "80 0 20\n"
     ]
    }
   ],
   "source": [
    "## First filter out those diagrams which could not be parsed\n",
    "\n",
    "## before filtering\n",
    "#print(len(raw_train_diagrams), len(raw_dev_diagrams), len(raw_test_diagrams))\n",
    "\n",
    "train_diagrams, train_labels_final = [], []\n",
    "dev_diagrams, dev_labels_final = [], []\n",
    "test_diagrams, test_labels_final = [], []\n",
    "\n",
    "for diagram, label in zip(raw_train_diagrams, train_labels):\n",
    "    if diagram[0] is not None and diagram[1] is not None:\n",
    "        train_diagrams.append(remove_cups(diagram))\n",
    "        train_labels_final.append(label)\n",
    "        \n",
    "# for diagram, label in zip(raw_dev_diagrams, dev_labels):\n",
    "#     if diagram[0] is not None and diagram[1] is not None:\n",
    "#         dev_diagrams.append(remove_cups(diagram))\n",
    "#         dev_labels_final.append(label)\n",
    "\n",
    "for diagram, label in zip(raw_test_diagrams, test_labels):\n",
    "    if diagram[0] is not None and diagram[1] is not None:\n",
    "        test_diagrams.append(remove_cups(diagram))\n",
    "        test_labels_final.append(label)\n",
    "\n",
    "print(len(train_diagrams), len(dev_diagrams), len(test_diagrams))"
   ]
  },
  {
   "cell_type": "markdown",
   "id": "0272fa74-0e3b-4116-b60a-7cdda605840f",
   "metadata": {},
   "source": [
    "## Create circuits"
   ]
  },
  {
   "cell_type": "code",
   "execution_count": 10,
   "id": "712e72af-1e8a-4afe-9073-a289c66a6da0",
   "metadata": {},
   "outputs": [
    {
     "data": {
      "image/png": "[encoded data removed]",
      "text/plain": [
       "<Figure size 648x864 with 1 Axes>"
      ]
     },
     "metadata": {},
     "output_type": "display_data"
    }
   ],
   "source": [
    "ansatz = IQPAnsatz({AtomicType.NOUN: 1, AtomicType.SENTENCE: 1},\n",
    "                   n_layers=1, n_single_qubit_params=3) \n",
    "\n",
    "train_circuits = [[ansatz(diagram[0]), ansatz(diagram[1])] for diagram in train_diagrams]\n",
    "# dev_circuits =  [[ansatz(diagram[0]), ansatz(diagram[1])] for diagram in dev_diagrams]\n",
    "test_circuits = [[ansatz(diagram[0]), ansatz(diagram[1])] for diagram in test_diagrams]\n",
    "\n",
    "train_circuits[0][0].draw(figsize=(9, 12))"
   ]
  },
  {
   "cell_type": "markdown",
   "id": "6e280285-8039-4f87-ab60-4d71541c4022",
   "metadata": {},
   "source": [
    "## Parameterise"
   ]
  },
  {
   "cell_type": "code",
   "execution_count": 27,
   "id": "0ffc740e-846c-4196-8ca4-7f05c569052b",
   "metadata": {},
   "outputs": [],
   "source": [
    "## JAX backend\n",
    "\n",
    "#all_circuits = train_circuits + dev_circuits + test_circuits\n",
    "all_circuits = [d for d in flatten(train_circuits)] + [d for d in flatten(test_circuits)]\n",
    "\n",
    "model = NumpyModel.from_diagrams(all_circuits, use_jit=True)\n",
    "#model1 = NumpyModel.from_diagrams(train_circuits, use_jit=True) # cann't take list of list\n",
    "#model1.initialise_weights()\n",
    "#res = model1(all_circuits[:20])"
   ]
  },
  {
   "cell_type": "code",
   "execution_count": 18,
   "id": "3d0230d3-5406-481b-a7da-7436d39b0854",
   "metadata": {},
   "outputs": [],
   "source": [
    "## AerBackend\n",
    "backend = AerBackend()\n",
    "backend_config = {\n",
    "    'backend': backend,\n",
    "    'compilation': backend.default_compilation_pass(2),\n",
    "    'shots': 8192\n",
    "}\n",
    "qmodel = TketModel.from_diagrams(all_circuits, backend_config=backend_config)\n",
    "qmodel.make_checkpoint('datasets/qmodel_train_checkpoint')\n",
    "#qmodel1 = TketModel.from_checkpoint('datasets/qmodel_train_checkpoint', backend_config=backend_config)"
   ]
  },
  {
   "cell_type": "markdown",
   "id": "3640b4a0-68e2-4a8e-b0f1-061ae80d7e66",
   "metadata": {},
   "source": [
    "## Define Loss and accuracy functions"
   ]
  },
  {
   "cell_type": "code",
   "execution_count": 12,
   "id": "668b9a58-98f0-46bb-8f5c-fa94273fca27",
   "metadata": {},
   "outputs": [],
   "source": [
    "def loss_func(y_hat, y):\n",
    "    ## tensor product and binary cross-entropy loss function\n",
    "    y_hat_new  = []\n",
    "    y_new = []\n",
    "    for i in range(0, len(y_hat), 2):\n",
    "        tns_pd = np.tensordot(y_hat[i], y_hat[i+1], axes=0)\n",
    "        y_hat_new.append([tns_pd[0][0] + tns_pd[1][1], tns_pd[0][1] + tns_pd[1][0]])\n",
    "        y_new.append(y[i])\n",
    "        #print(np.sum(res_new[i]))\n",
    "    loss =  -np.sum(np.array(y_new) * np.log(y_hat_new)) / len(y_new) # binary cross-entropy loss\n",
    "    \n",
    "    return loss\n",
    "\n",
    "def accuracy_func(y_hat, y):\n",
    "    y_hat_new  = []\n",
    "    y_new = []\n",
    "    for i in range(0, len(y_hat), 2):\n",
    "        tns_pd = np.tensordot(y_hat[i], y_hat[i+1], axes=0)\n",
    "        y_hat_new.append([tns_pd[0][0] + tns_pd[1][1], tns_pd[0][1] + tns_pd[1][0]])\n",
    "        y_new.append(y[i])\n",
    "    \n",
    "    acc = np.sum(np.round(y_hat_new) == y_new) / len(y_new) / 2  # half due to double-counting\n",
    "    \n",
    "    return acc"
   ]
  },
  {
   "cell_type": "markdown",
   "id": "a38e8f49-3f50-42be-90f3-d5abb3f5eebb",
   "metadata": {},
   "source": [
    "## Define trainer and create Dataset"
   ]
  },
  {
   "cell_type": "code",
   "execution_count": 28,
   "id": "ca78b661-357f-48ce-910f-ebb9226481e2",
   "metadata": {},
   "outputs": [],
   "source": [
    "trainer = QuantumTrainer(\n",
    "    model,\n",
    "    loss_function=loss_func,\n",
    "    epochs=EPOCHS,\n",
    "    optimizer=SPSAOptimizer,\n",
    "    optim_hyperparams={'a': 0.05, 'c': 0.06, 'A':0.01*EPOCHS},\n",
    "    evaluate_functions={'acc': accuracy_func},\n",
    "    evaluate_on_train=True,\n",
    "    verbose = 'text',\n",
    "    seed=SEED\n",
    ")"
   ]
  },
  {
   "cell_type": "code",
   "execution_count": 56,
   "id": "84a79a99-96bd-4c51-ae22-dee9e3d98417",
   "metadata": {},
   "outputs": [],
   "source": [
    "# trainerq = QuantumTrainer(\n",
    "#     qmodel,\n",
    "#     loss_function=loss_func,\n",
    "#     epochs=EPOCHS,\n",
    "#     optimizer=SPSAOptimizer,\n",
    "#     optim_hyperparams={'a': 0.05, 'c': 0.06, 'A':0.01*EPOCHS},\n",
    "#     evaluate_functions={'acc': accuracy_func},\n",
    "#     evaluate_on_train=True,\n",
    "#     verbose = 'text',\n",
    "#     seed=0\n",
    "# )"
   ]
  },
  {
   "cell_type": "code",
   "execution_count": 15,
   "id": "8f124073-76f8-4092-9690-3331406798f9",
   "metadata": {},
   "outputs": [],
   "source": [
    "train_dataset = Dataset([d for d in flatten(train_circuits)], np.repeat(train_labels, 2, axis=0),  batch_size=BATCH_SIZE*2, shuffle=False)"
   ]
  },
  {
   "cell_type": "markdown",
   "id": "55e652ca-b4df-4460-8538-62877bf6df29",
   "metadata": {},
   "source": [
    "## Trian the model"
   ]
  },
  {
   "cell_type": "code",
   "execution_count": 29,
   "id": "88394904-ab5e-44a4-b4e2-dd3c0c0f3163",
   "metadata": {},
   "outputs": [
    {
     "name": "stderr",
     "output_type": "stream",
     "text": [
      "Epoch 1:    train/loss: 0.6974   valid/loss: -----   train/acc: 0.4500   valid/acc: -----\n",
      "Epoch 20:   train/loss: 0.6772   valid/loss: -----   train/acc: 0.5750   valid/acc: -----\n",
      "Epoch 40:   train/loss: 0.6377   valid/loss: -----   train/acc: 0.6375   valid/acc: -----\n",
      "Epoch 60:   train/loss: 0.6103   valid/loss: -----   train/acc: 0.7000   valid/acc: -----\n",
      "Epoch 80:   train/loss: 0.5812   valid/loss: -----   train/acc: 0.7500   valid/acc: -----\n",
      "Epoch 100:  train/loss: 0.5634   valid/loss: -----   train/acc: 0.8750   valid/acc: -----\n",
      "Epoch 120:  train/loss: 0.5329   valid/loss: -----   train/acc: 0.9125   valid/acc: -----\n",
      "Epoch 140:  train/loss: 0.5064   valid/loss: -----   train/acc: 0.9750   valid/acc: -----\n",
      "Epoch 160:  train/loss: 0.4962   valid/loss: -----   train/acc: 0.9500   valid/acc: -----\n",
      "Epoch 180:  train/loss: 0.4930   valid/loss: -----   train/acc: 0.9750   valid/acc: -----\n",
      "Epoch 200:  train/loss: 0.4643   valid/loss: -----   train/acc: 0.9625   valid/acc: -----\n",
      "Epoch 220:  train/loss: 0.4502   valid/loss: -----   train/acc: 0.9625   valid/acc: -----\n",
      "Epoch 240:  train/loss: 0.4507   valid/loss: -----   train/acc: 0.9625   valid/acc: -----\n",
      "Epoch 260:  train/loss: 0.4493   valid/loss: -----   train/acc: 0.9625   valid/acc: -----\n",
      "Epoch 280:  train/loss: 0.4465   valid/loss: -----   train/acc: 1.0000   valid/acc: -----\n",
      "Epoch 300:  train/loss: 0.4267   valid/loss: -----   train/acc: 0.9875   valid/acc: -----\n",
      "Epoch 320:  train/loss: 0.4204   valid/loss: -----   train/acc: 0.9625   valid/acc: -----\n",
      "Epoch 340:  train/loss: 0.4230   valid/loss: -----   train/acc: 0.9625   valid/acc: -----\n",
      "Epoch 360:  train/loss: 0.4216   valid/loss: -----   train/acc: 0.9625   valid/acc: -----\n",
      "Epoch 380:  train/loss: 0.4214   valid/loss: -----   train/acc: 0.9625   valid/acc: -----\n",
      "Epoch 400:  train/loss: 0.4280   valid/loss: -----   train/acc: 0.9625   valid/acc: -----\n",
      "\n",
      "Training completed!\n"
     ]
    }
   ],
   "source": [
    "trainer.fit(train_dataset, logging_step=20) "
   ]
  },
  {
   "cell_type": "markdown",
   "id": "a752a08d-1930-4d8f-b00c-985ca88707dd",
   "metadata": {},
   "source": [
    "## Plot the loss and accuracy during training, and check model prediction accuracy with test dataset"
   ]
  },
  {
   "cell_type": "code",
   "execution_count": 30,
   "id": "57f3b945-4109-4038-a8fe-b82a4f7954a2",
   "metadata": {},
   "outputs": [
    {
     "name": "stdout",
     "output_type": "stream",
     "text": [
      "Test accuracy: 1.0\n"
     ]
    },
    {
     "data": {
      "image/png": "[encoded data removed]",
      "text/plain": [
       "<Figure size 432x720 with 2 Axes>"
      ]
     },
     "metadata": {
      "needs_background": "light"
     },
     "output_type": "display_data"
    }
   ],
   "source": [
    "fig, (ax_t, ax_b) = plt.subplots(2, 1, sharex=True, sharey='row', figsize=(6, 10))\n",
    "ax_t.set_title('Training set')\n",
    "#ax_tr.set_title('Development set')\n",
    "ax_b.set_xlabel('Iterations')\n",
    "#ax_br.set_xlabel('Iterations')\n",
    "ax_b.set_ylabel('Accuracy')\n",
    "ax_t.set_ylabel('Loss')\n",
    "\n",
    "colours = iter(plt.rcParams['axes.prop_cycle'].by_key()['color'])\n",
    "ax_t.plot(trainer.train_epoch_costs, color=next(colours))\n",
    "ax_b.plot(trainer.train_results['acc'], color=next(colours))\n",
    "#ax_tr.plot(trainer.val_costs, color=next(colours))\n",
    "#ax_br.plot(trainer.val_results['acc'], color=next(colours))\n",
    "\n",
    "test_acc = accuracy_func(model([d for d in flatten(test_circuits)]), np.repeat(test_labels, 2, axis=0))\n",
    "print('Test accuracy:', test_acc)"
   ]
  },
  {
   "cell_type": "markdown",
   "id": "65504d82-f0dc-4c5e-96fc-30a5a8c9e057",
   "metadata": {},
   "source": [
    "## Check the circuit output for test dataset"
   ]
  },
  {
   "cell_type": "code",
   "execution_count": 31,
   "id": "7c39f1dc-d328-4f18-adc4-50462dd4f313",
   "metadata": {},
   "outputs": [],
   "source": [
    "y_hat, y = model([d for d in flatten(test_circuits)]), np.repeat(test_labels, 2, axis=0)"
   ]
  },
  {
   "cell_type": "code",
   "execution_count": 32,
   "id": "cb63eea8-b28a-4709-83ca-8f4af994596a",
   "metadata": {},
   "outputs": [],
   "source": [
    "y_hat_new  = []\n",
    "y_new = []\n",
    "for i in range(0, len(y_hat), 2):\n",
    "    tns_pd = np.tensordot(y_hat[i], y_hat[i+1], axes=0)\n",
    "    y_hat_new.append([tns_pd[0][0] + tns_pd[1][1], tns_pd[0][1] + tns_pd[1][0]])\n",
    "    y_new.append(y[i])"
   ]
  },
  {
   "cell_type": "code",
   "execution_count": 35,
   "id": "44c589d8-5c0e-4787-8d37-824539eed55a",
   "metadata": {},
   "outputs": [
    {
     "name": "stdout",
     "output_type": "stream",
     "text": [
      "[0.74850756, 0.25149238] [1 0]\n",
      "[0.7526822, 0.24731785] [1 0]\n",
      "[0.34562972, 0.65437037] [0 1]\n",
      "[0.81797194, 0.18202811] [1 0]\n",
      "[0.6482606, 0.3517394] [1 0]\n",
      "[0.5743997, 0.4256003] [1 0]\n",
      "[0.16520265, 0.8347974] [0 1]\n",
      "[0.41628015, 0.5837198] [0 1]\n",
      "[0.7214439, 0.27855602] [1 0]\n",
      "[0.5843838, 0.41561627] [1 0]\n",
      "[0.86884075, 0.13115919] [1 0]\n",
      "[0.26020423, 0.73979574] [0 1]\n",
      "[0.6440382, 0.3559618] [1 0]\n",
      "[0.41975996, 0.5802401] [0 1]\n",
      "[0.3474806, 0.65251946] [0 1]\n",
      "[0.0961707, 0.9038294] [0 1]\n",
      "[0.4594704, 0.5405296] [0 1]\n",
      "[0.36837724, 0.63162273] [0 1]\n",
      "[0.5370196, 0.46298045] [1 0]\n",
      "[0.65342104, 0.34657896] [1 0]\n"
     ]
    }
   ],
   "source": [
    "for i, r in enumerate(y_new):\n",
    "    print(y_hat_new[i], r)"
   ]
  },
  {
   "cell_type": "code",
   "execution_count": 26,
   "id": "a2a35f0b-e54f-40b3-8cac-a9f64f27ae1e",
   "metadata": {},
   "outputs": [],
   "source": []
  }
 ],
 "metadata": {
  "kernelspec": {
   "display_name": "Python 3 [Womanium]",
   "language": "python",
   "name": "python3_womanium_go14xk"
  },
  "language_info": {
   "codemirror_mode": {
    "name": "ipython",
    "version": 3
   },
   "file_extension": ".py",
   "mimetype": "text/x-python",
   "name": "python",
   "nbconvert_exporter": "python",
   "pygments_lexer": "ipython3",
   "version": "3.9.10"
  }
 },
 "nbformat": 4,
 "nbformat_minor": 5
}
